{
  "nbformat": 4,
  "nbformat_minor": 0,
  "metadata": {
    "colab": {
      "provenance": [],
      "collapsed_sections": []
    },
    "kernelspec": {
      "name": "python3",
      "display_name": "Python 3"
    },
    "language_info": {
      "name": "python"
    },
    "accelerator": "GPU"
  },
  "cells": [
    {
      "cell_type": "code",
      "execution_count": 1,
      "metadata": {
        "colab": {
          "base_uri": "https://localhost:8080/"
        },
        "id": "p477nNYntzbK",
        "outputId": "febc6237-0871-4013-f083-eadee602e396"
      },
      "outputs": [
        {
          "output_type": "stream",
          "name": "stdout",
          "text": [
            "Drive already mounted at /content/drive; to attempt to forcibly remount, call drive.mount(\"/content/drive\", force_remount=True).\n"
          ]
        }
      ],
      "source": [
        "from google.colab import drive\n",
        "drive.mount('/content/drive')"
      ]
    },
    {
      "cell_type": "code",
      "source": [
        "import warnings\n",
        "warnings.filterwarnings('ignore')"
      ],
      "metadata": {
        "id": "TpxLw9iN_YB4"
      },
      "execution_count": 2,
      "outputs": []
    },
    {
      "cell_type": "code",
      "source": [
        "import pandas as pd\n",
        "import numpy as np\n",
        "import seaborn as sns\n",
        "import matplotlib.pyplot as plt\n",
        "import re"
      ],
      "metadata": {
        "id": "ak90YUKgvqc-"
      },
      "execution_count": 3,
      "outputs": []
    },
    {
      "cell_type": "code",
      "source": [
        "project_path = \"/content/drive/My Drive/NLP_projects/\""
      ],
      "metadata": {
        "id": "7l-1vzS59uLZ"
      },
      "execution_count": 4,
      "outputs": []
    },
    {
      "cell_type": "markdown",
      "source": [],
      "metadata": {
        "id": "Pj2XUEnMvRig"
      }
    },
    {
      "cell_type": "markdown",
      "source": [
        "# Part A"
      ],
      "metadata": {
        "id": "tTjXMTFBvSii"
      }
    },
    {
      "cell_type": "markdown",
      "source": [
        "**PROJECT OBJECTIVE:** To build a NLP classifier which can use input text parameters to determine the label/s of the blog. Specific to this case\n",
        "study, you can consider the text of the blog: ‘text’ feature as independent variable and ‘topic’ as dependent variable."
      ],
      "metadata": {
        "id": "pC_pm1W2vexn"
      }
    },
    {
      "cell_type": "markdown",
      "source": [
        "1. Read and Analyse Dataset. [5 Marks]"
      ],
      "metadata": {
        "id": "rM-f0AZPvy5v"
      }
    },
    {
      "cell_type": "code",
      "source": [
        "# A. Clearly write outcome of data analysis(Minimum 2 points) [2 Marks]\n",
        "\n",
        "\n",
        "images_zip_path = project_path + \"blogs.zip\"\n",
        "\n",
        "from zipfile import ZipFile\n",
        "\n",
        "with ZipFile(images_zip_path, 'r') as z:\n",
        "  z.extractall()"
      ],
      "metadata": {
        "id": "goWKUX62vbxl"
      },
      "execution_count": 5,
      "outputs": []
    },
    {
      "cell_type": "code",
      "source": [
        "blog_df = pd.read_csv('blogtext.csv')\n",
        "blog_df = blog_df.sample(n=10000, ignore_index=True)    #Taking subset of 10,000 rows so that the system does not crash.\n",
        "print(blog_df.head())"
      ],
      "metadata": {
        "id": "kYm_l4FQuQC4",
        "colab": {
          "base_uri": "https://localhost:8080/"
        },
        "outputId": "67e02d05-1aeb-4e39-ea54-a998ae49016d"
      },
      "execution_count": 6,
      "outputs": [
        {
          "output_type": "stream",
          "name": "stdout",
          "text": [
            "        id  gender  age      topic     sign             date  \\\n",
            "0  1627914  female   38  Education  Scorpio     03,July,2003   \n",
            "1  3693954  female   14   Internet      Leo     20,June,2004   \n",
            "2  3720867    male   37       Arts   Gemini     06,July,2004   \n",
            "3   180519  female   23     indUnk   Cancer  11,October,2001   \n",
            "4  3750778  female   17    Student    Aries     11,July,2004   \n",
            "\n",
            "                                                text  \n",
            "0                   My purpose for setting up thi...  \n",
            "1                   I don't think I've posted any...  \n",
            "2               This has come to be my favorite t...  \n",
            "3         ah, i'm such a fool. perhaps it would b...  \n",
            "4             J     Joyous       I     Insane    ...  \n"
          ]
        }
      ]
    },
    {
      "cell_type": "code",
      "source": [
        "blog_df.info()"
      ],
      "metadata": {
        "colab": {
          "base_uri": "https://localhost:8080/"
        },
        "id": "2rxejT_B5ZZS",
        "outputId": "e93eeafa-ef6f-4693-d6c5-87ccebaf9f0f"
      },
      "execution_count": 7,
      "outputs": [
        {
          "output_type": "stream",
          "name": "stdout",
          "text": [
            "<class 'pandas.core.frame.DataFrame'>\n",
            "RangeIndex: 10000 entries, 0 to 9999\n",
            "Data columns (total 7 columns):\n",
            " #   Column  Non-Null Count  Dtype \n",
            "---  ------  --------------  ----- \n",
            " 0   id      10000 non-null  int64 \n",
            " 1   gender  10000 non-null  object\n",
            " 2   age     10000 non-null  int64 \n",
            " 3   topic   10000 non-null  object\n",
            " 4   sign    10000 non-null  object\n",
            " 5   date    10000 non-null  object\n",
            " 6   text    10000 non-null  object\n",
            "dtypes: int64(2), object(5)\n",
            "memory usage: 547.0+ KB\n"
          ]
        }
      ]
    },
    {
      "cell_type": "code",
      "source": [
        "blog_df['gender'].value_counts()"
      ],
      "metadata": {
        "id": "g8duQ72auQHW",
        "colab": {
          "base_uri": "https://localhost:8080/"
        },
        "outputId": "774bba91-2558-4318-cf8d-b51439b92137"
      },
      "execution_count": 8,
      "outputs": [
        {
          "output_type": "execute_result",
          "data": {
            "text/plain": [
              "male      5026\n",
              "female    4974\n",
              "Name: gender, dtype: int64"
            ]
          },
          "metadata": {},
          "execution_count": 8
        }
      ]
    },
    {
      "cell_type": "code",
      "source": [
        "blog_df['topic'].nunique()"
      ],
      "metadata": {
        "id": "b4D0QMBquQOi",
        "colab": {
          "base_uri": "https://localhost:8080/"
        },
        "outputId": "d262557e-bef9-44ef-ddbd-42f0fbcf5a39"
      },
      "execution_count": 9,
      "outputs": [
        {
          "output_type": "execute_result",
          "data": {
            "text/plain": [
              "40"
            ]
          },
          "metadata": {},
          "execution_count": 9
        }
      ]
    },
    {
      "cell_type": "code",
      "source": [
        " plt.figure(figsize=(15,5))\n",
        " sns.countplot(x='age',data=blog_df)"
      ],
      "metadata": {
        "colab": {
          "base_uri": "https://localhost:8080/",
          "height": 351
        },
        "id": "39V7IwDnzoeq",
        "outputId": "5fa8a953-ae36-4fba-b967-7a87cbdda1d9"
      },
      "execution_count": 10,
      "outputs": [
        {
          "output_type": "execute_result",
          "data": {
            "text/plain": [
              "<matplotlib.axes._subplots.AxesSubplot at 0x7ff5a864bf50>"
            ]
          },
          "metadata": {},
          "execution_count": 10
        },
        {
          "output_type": "display_data",
          "data": {
            "text/plain": [
              "<Figure size 1080x360 with 1 Axes>"
            ],
            "image/png": "[encoded data removed]"
          },
          "metadata": {
            "needs_background": "light"
          }
        }
      ]
    },
    {
      "cell_type": "code",
      "source": [
        " plt.figure(figsize=(5,15))\n",
        "sns.countplot(y='topic',data=blog_df)"
      ],
      "metadata": {
        "colab": {
          "base_uri": "https://localhost:8080/",
          "height": 894
        },
        "id": "k5syR4siZDOX",
        "outputId": "a0dc8a1c-2431-4478-9d97-a97faf67a815"
      },
      "execution_count": 11,
      "outputs": [
        {
          "output_type": "execute_result",
          "data": {
            "text/plain": [
              "<matplotlib.axes._subplots.AxesSubplot at 0x7ff5aa0e0c50>"
            ]
          },
          "metadata": {},
          "execution_count": 11
        },
        {
          "output_type": "display_data",
          "data": {
            "text/plain": [
              "<Figure size 360x1080 with 1 Axes>"
            ],
            "image/png": "[encoded data removed]"
          },
          "metadata": {
            "needs_background": "light"
          }
        }
      ]
    },
    {
      "cell_type": "markdown",
      "source": [
        "Insights: \n",
        "\n",
        "\n",
        "*   There are blogs on 40 topics.\n",
        "*   There are slightly less female bloggers than male.\n",
        "*   Most bloggers are in the age group 15-27\n",
        "*   Most of the blogs are about a handful of topics which makes the dataset highly skewed.\n",
        "\n",
        "\n",
        "\n",
        "\n",
        "\n",
        "\n",
        "\n",
        "\n",
        "\n",
        " \n",
        "\n"
      ],
      "metadata": {
        "id": "zt-wQ4ENu-UG"
      }
    },
    {
      "cell_type": "code",
      "source": [
        "# B. Clean the Structured Data [3 Marks]\n",
        "#  i. Missing value analysis and imputation. [1 Marks]\n",
        "blog_df.isnull().sum()"
      ],
      "metadata": {
        "colab": {
          "base_uri": "https://localhost:8080/"
        },
        "id": "og1w0X7KxVR4",
        "outputId": "21ebbc6b-f2f0-4afb-d178-ca0d3335cb3d"
      },
      "execution_count": 12,
      "outputs": [
        {
          "output_type": "execute_result",
          "data": {
            "text/plain": [
              "id        0\n",
              "gender    0\n",
              "age       0\n",
              "topic     0\n",
              "sign      0\n",
              "date      0\n",
              "text      0\n",
              "dtype: int64"
            ]
          },
          "metadata": {},
          "execution_count": 12
        }
      ]
    },
    {
      "cell_type": "markdown",
      "source": [
        "There are no missing values in the dataset"
      ],
      "metadata": {
        "id": "x7QQyk6N6LdL"
      }
    },
    {
      "cell_type": "code",
      "source": [
        "#  ii. Eliminate Non-English textual data. [2 Marks]\n",
        "!pip install langdetect\n",
        "from langdetect import detect"
      ],
      "metadata": {
        "colab": {
          "base_uri": "https://localhost:8080/"
        },
        "id": "T8isCCNV6JT2",
        "outputId": "a3ad58ad-7c35-4ed0-9cb3-81bbc3683666"
      },
      "execution_count": 13,
      "outputs": [
        {
          "output_type": "stream",
          "name": "stdout",
          "text": [
            "Looking in indexes: https://pypi.org/simple, https://us-python.pkg.dev/colab-wheels/public/simple/\n",
            "Requirement already satisfied: langdetect in /usr/local/lib/python3.7/dist-packages (1.0.9)\n",
            "Requirement already satisfied: six in /usr/local/lib/python3.7/dist-packages (from langdetect) (1.15.0)\n"
          ]
        }
      ]
    },
    {
      "cell_type": "code",
      "source": [
        "def detect_english(text):\n",
        "  try:\n",
        "    return detect(text) == 'en'\n",
        "  except:\n",
        "    return False"
      ],
      "metadata": {
        "id": "SSHfou7xJntR"
      },
      "execution_count": 14,
      "outputs": []
    },
    {
      "cell_type": "code",
      "source": [
        "blog_en = blog_df[blog_df['text'].apply(detect_english)]"
      ],
      "metadata": {
        "id": "9CaJIP5PJnwI"
      },
      "execution_count": 15,
      "outputs": []
    },
    {
      "cell_type": "code",
      "source": [
        "blog_en.shape"
      ],
      "metadata": {
        "colab": {
          "base_uri": "https://localhost:8080/"
        },
        "id": "Kw2u0Zm3QKhq",
        "outputId": "b8edd5f7-eee9-4995-e9c5-43696b204607"
      },
      "execution_count": 16,
      "outputs": [
        {
          "output_type": "execute_result",
          "data": {
            "text/plain": [
              "(9555, 7)"
            ]
          },
          "metadata": {},
          "execution_count": 16
        }
      ]
    },
    {
      "cell_type": "code",
      "source": [
        "blog_en.topic.value_counts()"
      ],
      "metadata": {
        "colab": {
          "base_uri": "https://localhost:8080/"
        },
        "id": "ggA7-skFof9k",
        "outputId": "107a9b83-6b9b-498f-c47c-a488d415a733"
      },
      "execution_count": 17,
      "outputs": [
        {
          "output_type": "execute_result",
          "data": {
            "text/plain": [
              "indUnk                     3505\n",
              "Student                    2199\n",
              "Technology                  610\n",
              "Arts                        461\n",
              "Education                   388\n",
              "Communications-Media        287\n",
              "Internet                    242\n",
              "Non-Profit                  197\n",
              "Engineering                 168\n",
              "Publishing                  109\n",
              "Law                         105\n",
              "Government                  105\n",
              "Science                      95\n",
              "Consulting                   82\n",
              "Marketing                    72\n",
              "Advertising                  65\n",
              "Banking                      64\n",
              "Fashion                      64\n",
              "BusinessServices             63\n",
              "Religion                     63\n",
              "Chemicals                    62\n",
              "Museums-Libraries            49\n",
              "Telecommunications           46\n",
              "Accounting                   44\n",
              "Sports-Recreation            43\n",
              "HumanResources               42\n",
              "Military                     41\n",
              "RealEstate                   40\n",
              "Transportation               34\n",
              "Manufacturing                30\n",
              "Tourism                      29\n",
              "Biotech                      28\n",
              "LawEnforcement-Security      27\n",
              "Agriculture                  23\n",
              "Automotive                   20\n",
              "Architecture                 15\n",
              "Construction                 12\n",
              "InvestmentBanking            10\n",
              "Environment                   9\n",
              "Maritime                      7\n",
              "Name: topic, dtype: int64"
            ]
          },
          "metadata": {},
          "execution_count": 17
        }
      ]
    },
    {
      "cell_type": "code",
      "source": [
        "#Remove infrequent topics\n",
        "counts = blog_en['topic'].value_counts()\n",
        "\n",
        "blog_en = blog_en[blog_en['topic'].isin(counts[counts > 100].index)]\n",
        "blog_en['topic'].value_counts()"
      ],
      "metadata": {
        "colab": {
          "base_uri": "https://localhost:8080/"
        },
        "id": "586HEFpxGQjY",
        "outputId": "e1f7ac33-7249-4346-ecb9-308f4e137c8f"
      },
      "execution_count": 18,
      "outputs": [
        {
          "output_type": "execute_result",
          "data": {
            "text/plain": [
              "indUnk                  3505\n",
              "Student                 2199\n",
              "Technology               610\n",
              "Arts                     461\n",
              "Education                388\n",
              "Communications-Media     287\n",
              "Internet                 242\n",
              "Non-Profit               197\n",
              "Engineering              168\n",
              "Publishing               109\n",
              "Law                      105\n",
              "Government               105\n",
              "Name: topic, dtype: int64"
            ]
          },
          "metadata": {},
          "execution_count": 18
        }
      ]
    },
    {
      "cell_type": "code",
      "source": [
        "blog_en.shape"
      ],
      "metadata": {
        "colab": {
          "base_uri": "https://localhost:8080/"
        },
        "id": "QRQaggrD0Npa",
        "outputId": "0ae73dfb-72e0-4fa8-ce81-2172d1a6d9d5"
      },
      "execution_count": 19,
      "outputs": [
        {
          "output_type": "execute_result",
          "data": {
            "text/plain": [
              "(8376, 7)"
            ]
          },
          "metadata": {},
          "execution_count": 19
        }
      ]
    },
    {
      "cell_type": "markdown",
      "source": [
        "2. Preprocess unstructured data to make it consumable for model training. [5 Marks]"
      ],
      "metadata": {
        "id": "gx2RYPdzSYjo"
      }
    },
    {
      "cell_type": "code",
      "source": [
        "# A. Eliminate All special Characters and Numbers [2 Marks]\n",
        "blog_en.text = blog_en.text.apply(lambda x: re.sub('[^A-Za-z]+', ' ', x))"
      ],
      "metadata": {
        "id": "ig8GJQDrQa8R"
      },
      "execution_count": 20,
      "outputs": []
    },
    {
      "cell_type": "code",
      "source": [
        "blog_en.text.head(10)"
      ],
      "metadata": {
        "colab": {
          "base_uri": "https://localhost:8080/"
        },
        "id": "U9WkGth8UZBH",
        "outputId": "4e1946de-8b03-4987-8170-c27115e98f20"
      },
      "execution_count": 21,
      "outputs": [
        {
          "output_type": "execute_result",
          "data": {
            "text/plain": [
              "0     My purpose for setting up this site is to sha...\n",
              "1     I don t think I ve posted anything about Harr...\n",
              "2     This has come to be my favorite time of year ...\n",
              "3     ah i m such a fool perhaps it would be best i...\n",
              "4     J Joyous I Insane L Light L Luscious Name Use...\n",
              "5                glad it s all good cool anna krystle \n",
              "6     subject is another eric quote but i might as ...\n",
              "7     heylo so saturday manda jenn mar kevin and jo...\n",
              "8     My co hort in crime urlLink roar not lion mad...\n",
              "9     I am so excited I just made a bid on a pair o...\n",
              "Name: text, dtype: object"
            ]
          },
          "metadata": {},
          "execution_count": 21
        }
      ]
    },
    {
      "cell_type": "code",
      "source": [
        "# B. Lowercase all textual data [1 Marks]\n",
        "blog_en.text = blog_en.text.apply(lambda s: s.lower())\n",
        "blog_en.text.head(10)"
      ],
      "metadata": {
        "colab": {
          "base_uri": "https://localhost:8080/"
        },
        "id": "dbePaD2GUc7P",
        "outputId": "81d4089c-ab16-4d7a-f343-4338c0d65f92"
      },
      "execution_count": 22,
      "outputs": [
        {
          "output_type": "execute_result",
          "data": {
            "text/plain": [
              "0     my purpose for setting up this site is to sha...\n",
              "1     i don t think i ve posted anything about harr...\n",
              "2     this has come to be my favorite time of year ...\n",
              "3     ah i m such a fool perhaps it would be best i...\n",
              "4     j joyous i insane l light l luscious name use...\n",
              "5                glad it s all good cool anna krystle \n",
              "6     subject is another eric quote but i might as ...\n",
              "7     heylo so saturday manda jenn mar kevin and jo...\n",
              "8     my co hort in crime urllink roar not lion mad...\n",
              "9     i am so excited i just made a bid on a pair o...\n",
              "Name: text, dtype: object"
            ]
          },
          "metadata": {},
          "execution_count": 22
        }
      ]
    },
    {
      "cell_type": "code",
      "source": [
        "blog_en.text = blog_en.text.str.replace('urllink', \"\") #Removing keyword urllink"
      ],
      "metadata": {
        "id": "W_1ZwkL3VfL5"
      },
      "execution_count": 23,
      "outputs": []
    },
    {
      "cell_type": "code",
      "source": [
        "# C. Remove all Stopwords [1 Marks]\n",
        "import nltk\n",
        "from nltk.corpus import stopwords\n",
        "nltk.download('stopwords')\n",
        "stopwords=set(stopwords.words('english'))\n",
        "blog_en['text'] = blog_en['text'].apply(lambda k: ' '.join([words for words in k.split() if words not in stopwords]) )\n",
        "\n",
        "blog_en.text.head()"
      ],
      "metadata": {
        "colab": {
          "base_uri": "https://localhost:8080/"
        },
        "id": "5BSIBd-5VCJj",
        "outputId": "19b75911-f2de-422f-f5fc-f67f54704da8"
      },
      "execution_count": 24,
      "outputs": [
        {
          "output_type": "stream",
          "name": "stderr",
          "text": [
            "[nltk_data] Downloading package stopwords to /root/nltk_data...\n",
            "[nltk_data]   Package stopwords is already up-to-date!\n"
          ]
        },
        {
          "output_type": "execute_result",
          "data": {
            "text/plain": [
              "0    purpose setting site share things written thou...\n",
              "1    think posted anything harry potter love harry ...\n",
              "2    come favorite time year get work new york rena...\n",
              "3    ah fool perhaps would best learned accept mayb...\n",
              "4    j joyous insane l light l luscious name userna...\n",
              "Name: text, dtype: object"
            ]
          },
          "metadata": {},
          "execution_count": 24
        }
      ]
    },
    {
      "cell_type": "code",
      "source": [
        "# D. Remove all extra white spaces [1 Marks]\n",
        "blog_en.text = blog_en.text.apply(lambda s: s.strip())"
      ],
      "metadata": {
        "id": "cxKWzrcAZGMi"
      },
      "execution_count": 25,
      "outputs": []
    },
    {
      "cell_type": "markdown",
      "source": [
        "3. Build a base Classification model [8 Marks]"
      ],
      "metadata": {
        "id": "LbjIZ9-6hhzE"
      }
    },
    {
      "cell_type": "code",
      "source": [
        "# A. Create dependent and independent variables [2 Marks] Hint: Treat ‘topic’ as a Target variable.\n",
        "X = blog_en.text\n",
        "y= blog_en.topic"
      ],
      "metadata": {
        "id": "X0QydOahhOoB"
      },
      "execution_count": 26,
      "outputs": []
    },
    {
      "cell_type": "code",
      "source": [
        "X.head()"
      ],
      "metadata": {
        "colab": {
          "base_uri": "https://localhost:8080/"
        },
        "id": "rKBx7whxh7Zv",
        "outputId": "04d0b0b9-5770-4a40-f131-4cef0f4c5c08"
      },
      "execution_count": 27,
      "outputs": [
        {
          "output_type": "execute_result",
          "data": {
            "text/plain": [
              "0    purpose setting site share things written thou...\n",
              "1    think posted anything harry potter love harry ...\n",
              "2    come favorite time year get work new york rena...\n",
              "3    ah fool perhaps would best learned accept mayb...\n",
              "4    j joyous insane l light l luscious name userna...\n",
              "Name: text, dtype: object"
            ]
          },
          "metadata": {},
          "execution_count": 27
        }
      ]
    },
    {
      "cell_type": "code",
      "source": [
        "y.head()"
      ],
      "metadata": {
        "colab": {
          "base_uri": "https://localhost:8080/"
        },
        "id": "YMCgYn_Qh8w1",
        "outputId": "8fa137db-bf2f-45b6-fbf2-3024e8946b6d"
      },
      "execution_count": 28,
      "outputs": [
        {
          "output_type": "execute_result",
          "data": {
            "text/plain": [
              "0    Education\n",
              "1     Internet\n",
              "2         Arts\n",
              "3       indUnk\n",
              "4      Student\n",
              "Name: topic, dtype: object"
            ]
          },
          "metadata": {},
          "execution_count": 28
        }
      ]
    },
    {
      "cell_type": "code",
      "source": [
        "# B. Split data into train and test. [1 Marks]\n",
        "from sklearn.model_selection import train_test_split\n",
        "X_train, X_test, y_train, y_test = train_test_split(X,y, random_state=42,test_size = 0.2)"
      ],
      "metadata": {
        "id": "fBSw_x6hiFKc"
      },
      "execution_count": 29,
      "outputs": []
    },
    {
      "cell_type": "code",
      "source": [
        "print(X_train.shape)\n",
        "print(y_train.shape)\n",
        "print(X_test.shape)\n",
        "print(y_test.shape)"
      ],
      "metadata": {
        "id": "tjlkNFjhic3E",
        "outputId": "e28df3dc-3410-4ece-baec-5b76d25fb3c9",
        "colab": {
          "base_uri": "https://localhost:8080/"
        }
      },
      "execution_count": 30,
      "outputs": [
        {
          "output_type": "stream",
          "name": "stdout",
          "text": [
            "(6700,)\n",
            "(6700,)\n",
            "(1676,)\n",
            "(1676,)\n"
          ]
        }
      ]
    },
    {
      "cell_type": "code",
      "source": [
        "# C. Vectorize data using any one vectorizer. [2 Marks]\n",
        "from sklearn.feature_extraction.text import TfidfVectorizer\n",
        "\n",
        "tfidf = TfidfVectorizer(ngram_range=(1,2))\n",
        "X_train_t = tfidf.fit_transform(X_train)  #X_train_t is vectorized with Tf-idf vectorizer\n",
        "X_test_t = tfidf.transform(X_test)"
      ],
      "metadata": {
        "id": "DMdJnHgqiVAA"
      },
      "execution_count": 31,
      "outputs": []
    },
    {
      "cell_type": "code",
      "source": [
        "X_train_t.shape"
      ],
      "metadata": {
        "colab": {
          "base_uri": "https://localhost:8080/"
        },
        "id": "4PCsXqHmmSiF",
        "outputId": "e91f5b77-be2b-482b-9666-6621fc35ba74"
      },
      "execution_count": 32,
      "outputs": [
        {
          "output_type": "execute_result",
          "data": {
            "text/plain": [
              "(6700, 546790)"
            ]
          },
          "metadata": {},
          "execution_count": 32
        }
      ]
    },
    {
      "cell_type": "code",
      "source": [
        "# D. Build a base model for Supervised Learning - Classification. [2 Marks]\n",
        "\n",
        "from sklearn.tree import DecisionTreeClassifier\n",
        "model_1 = DecisionTreeClassifier(random_state=0)\n",
        "model_1.fit(X_train_t, y_train)\n",
        "pred_1 = model_1.predict(X_test_t)"
      ],
      "metadata": {
        "id": "8PNGY7J7vYVB"
      },
      "execution_count": 33,
      "outputs": []
    },
    {
      "cell_type": "code",
      "source": [
        "# E. Clearly print Performance Metrics. [1 Marks]\n",
        "from sklearn.metrics import accuracy_score\n",
        "from sklearn.metrics import f1_score\n",
        "from sklearn.metrics import precision_score\n",
        "from sklearn.metrics import recall_score\n",
        "from sklearn.metrics import roc_auc_score\n",
        "\n",
        "def print_evaluation_scores(y_val, predicted):\n",
        "    print('Accuracy score: ', accuracy_score(y_val, predicted))\n",
        "    print('F1 score: ', f1_score(y_val, predicted, average='weighted'))\n",
        "    print('Average precision score: ', precision_score(y_val, predicted,  average='weighted'))\n",
        "    print('Average recall score: ', recall_score(y_val, predicted, average='weighted'))\n",
        "    "
      ],
      "metadata": {
        "id": "BqoIx5wkzYZD"
      },
      "execution_count": 34,
      "outputs": []
    },
    {
      "cell_type": "code",
      "source": [
        "print_evaluation_scores(y_test,pred_1)"
      ],
      "metadata": {
        "colab": {
          "base_uri": "https://localhost:8080/"
        },
        "id": "Gsn4qjlBzawW",
        "outputId": "9a70b502-731e-4481-c6bb-6bf80e98a796"
      },
      "execution_count": 35,
      "outputs": [
        {
          "output_type": "stream",
          "name": "stdout",
          "text": [
            "Accuracy score:  0.31742243436754175\n",
            "F1 score:  0.3073658263179955\n",
            "Average precision score:  0.299934160874046\n",
            "Average recall score:  0.31742243436754175\n"
          ]
        }
      ]
    },
    {
      "cell_type": "markdown",
      "source": [
        "4. Improve Performance of model. [14 Marks]"
      ],
      "metadata": {
        "id": "8hSIOAkNcbne"
      }
    },
    {
      "cell_type": "code",
      "source": [
        "# A. Experiment with other vectorisers. [4 Marks]\n",
        "from sklearn.feature_extraction.text import CountVectorizer\n",
        "\n",
        "vectorizer = CountVectorizer(binary=True, ngram_range=(1, 3))\n",
        "X_train_c = vectorizer.fit_transform(X_train)     #X_train_c is vectorized with Count Vectorizer\n",
        "X_test_c = vectorizer.transform(X_test)\n",
        "X_train_c, X_test_c"
      ],
      "metadata": {
        "id": "_z2ktkuGl7MC",
        "colab": {
          "base_uri": "https://localhost:8080/"
        },
        "outputId": "e0b15d90-02d4-4dc3-a66b-6a9d1aee8788"
      },
      "execution_count": 36,
      "outputs": [
        {
          "output_type": "execute_result",
          "data": {
            "text/plain": [
              "(<6700x1186983 sparse matrix of type '<class 'numpy.int64'>'\n",
              " \twith 1801025 stored elements in Compressed Sparse Row format>,\n",
              " <1676x1186983 sparse matrix of type '<class 'numpy.int64'>'\n",
              " \twith 175903 stored elements in Compressed Sparse Row format>)"
            ]
          },
          "metadata": {},
          "execution_count": 36
        }
      ]
    },
    {
      "cell_type": "code",
      "source": [
        "from sklearn.feature_selection import SelectKBest, chi2\n",
        "\n",
        "ch2 = SelectKBest(chi2, k=5000)\n",
        "X_train_b = ch2.fit_transform(X_train_c, y_train)     #X_train_b has the best features from X_train_c\n",
        "X_test_b = ch2.transform(X_test_c)\n",
        "\n",
        "X_train_b, X_test_b"
      ],
      "metadata": {
        "colab": {
          "base_uri": "https://localhost:8080/"
        },
        "id": "youyGUK75yrs",
        "outputId": "bea73215-27cd-4a92-fd5d-47701cd567c1"
      },
      "execution_count": 37,
      "outputs": [
        {
          "output_type": "execute_result",
          "data": {
            "text/plain": [
              "(<6700x5000 sparse matrix of type '<class 'numpy.int64'>'\n",
              " \twith 5740 stored elements in Compressed Sparse Row format>,\n",
              " <1676x5000 sparse matrix of type '<class 'numpy.int64'>'\n",
              " \twith 262 stored elements in Compressed Sparse Row format>)"
            ]
          },
          "metadata": {},
          "execution_count": 37
        }
      ]
    },
    {
      "cell_type": "code",
      "source": [
        "# B. Build classifier Models using other algorithms than base model. [4 Marks]\n",
        "from sklearn.naive_bayes import MultinomialNB\n",
        "from sklearn.metrics import accuracy_score\n",
        "model_2 = MultinomialNB()\n",
        "model_2.fit(X_train_b, y_train)\n",
        "pred_2 = model_2.predict(X_test_b)\n",
        "\n",
        "print(\"Multinomial metrics:\")\n",
        "print_evaluation_scores(y_test, pred_2)"
      ],
      "metadata": {
        "colab": {
          "base_uri": "https://localhost:8080/"
        },
        "id": "OKOoR9sI6FSQ",
        "outputId": "265aa8a3-96f5-45a1-c825-743109074f8e"
      },
      "execution_count": 38,
      "outputs": [
        {
          "output_type": "stream",
          "name": "stdout",
          "text": [
            "Multinomial metrics:\n",
            "Accuracy score:  0.42422434367541767\n",
            "F1 score:  0.2784613348235213\n",
            "Average precision score:  0.33764521573227835\n",
            "Average recall score:  0.42422434367541767\n"
          ]
        }
      ]
    },
    {
      "cell_type": "code",
      "source": [
        "## Bernoulli model\n",
        "from sklearn.naive_bayes import BernoulliNB\n",
        "from sklearn.metrics import accuracy_score\n",
        "model_3 = BernoulliNB()\n",
        "model_3.fit(X_train_b, y_train)\n",
        "pred_3 = model_3.predict(X_test_b)\n",
        "\n",
        "print(\"Bernoulli model metrics:\")\n",
        "print_evaluation_scores(y_test, pred_3)"
      ],
      "metadata": {
        "colab": {
          "base_uri": "https://localhost:8080/"
        },
        "id": "eJplJMxvGG3u",
        "outputId": "c63e910b-840e-4bb6-821c-01b77aeadb51"
      },
      "execution_count": 39,
      "outputs": [
        {
          "output_type": "stream",
          "name": "stdout",
          "text": [
            "Bernoulli model metrics:\n",
            "Accuracy score:  0.4230310262529833\n",
            "F1 score:  0.25261657766880463\n",
            "Average precision score:  0.23280337471024026\n",
            "Average recall score:  0.4230310262529833\n"
          ]
        }
      ]
    },
    {
      "cell_type": "code",
      "source": [
        "# C. Tune Parameters/Hyperparameters of the model/s. [4 Marks]\n",
        "# D. Clearly print Performance Metrics. [2 Marks]\n",
        "## RandomForest model\n",
        "from sklearn.ensemble import RandomForestClassifier\n",
        "model_4=RandomForestClassifier(max_depth=100, n_estimators=100)\n",
        "model_4.fit(X_train_t, y_train)\n",
        "pred_4 = model_4.predict(X_test_t)\n",
        "\n",
        "print(\"Random Forest model for tfidf vectorizer:\")\n",
        "print_evaluation_scores(y_test,pred_4)"
      ],
      "metadata": {
        "colab": {
          "base_uri": "https://localhost:8080/"
        },
        "id": "Gj35HEGmdF8h",
        "outputId": "d02bdd85-828c-43dd-bd14-2238b7d7ee35"
      },
      "execution_count": 40,
      "outputs": [
        {
          "output_type": "stream",
          "name": "stdout",
          "text": [
            "Random Forest model for tfidf vectorizer:\n",
            "Accuracy score:  0.43973747016706444\n",
            "F1 score:  0.3131774991383213\n",
            "Average precision score:  0.33328590862172947\n",
            "Average recall score:  0.43973747016706444\n"
          ]
        }
      ]
    },
    {
      "cell_type": "code",
      "source": [
        "from sklearn.ensemble import RandomForestClassifier\n",
        "model_5=RandomForestClassifier(max_depth=100, n_estimators=100)\n",
        "model_5.fit(X_train_b, y_train)\n",
        "pred_5 = model_5.predict(X_test_b)\n",
        "\n",
        "print(\"Random Forest classifier for Count Vectorizer:\")\n",
        "print_evaluation_scores(y_test, pred_5)"
      ],
      "metadata": {
        "colab": {
          "base_uri": "https://localhost:8080/"
        },
        "id": "y9fIZEbnOtYn",
        "outputId": "a0a29380-a030-43c5-e29a-0e512c5fc7f6"
      },
      "execution_count": 41,
      "outputs": [
        {
          "output_type": "stream",
          "name": "stdout",
          "text": [
            "Random Forest classifier for Count Vectorizer:\n",
            "Accuracy score:  0.4152744630071599\n",
            "F1 score:  0.2809618746179181\n",
            "Average precision score:  0.3301515986221898\n",
            "Average recall score:  0.4152744630071599\n"
          ]
        }
      ]
    },
    {
      "cell_type": "code",
      "source": [
        "# Number of trees in random forest\n",
        "n_estimators = [int(x) for x in np.linspace(start = 100, stop = 150, num = 10)]\n",
        "# Number of features to consider at every split\n",
        "max_features = ['auto', 'sqrt']\n",
        "# Maximum number of levels in tree\n",
        "max_depth = [100,150]\n",
        "# Minimum number of samples required to split a node\n",
        "min_samples_split = [2, 5]\n",
        "# Minimum number of samples required at each leaf node\n",
        "min_samples_leaf = [1, 2]\n",
        "# Method of selecting samples for training each tree\n",
        "bootstrap = [True, False]"
      ],
      "metadata": {
        "id": "RTMDFd8DUy-x"
      },
      "execution_count": 42,
      "outputs": []
    },
    {
      "cell_type": "code",
      "source": [
        "param_grid = {'n_estimators': n_estimators,\n",
        "               'max_features': max_features,\n",
        "               'max_depth': max_depth,\n",
        "               'min_samples_split': min_samples_split,\n",
        "               'min_samples_leaf': min_samples_leaf,\n",
        "               'bootstrap': bootstrap}\n",
        "print(param_grid)"
      ],
      "metadata": {
        "colab": {
          "base_uri": "https://localhost:8080/"
        },
        "id": "aKPj4k8IUzJk",
        "outputId": "19c8ff45-3d37-4541-a30b-3b57ed2908a7"
      },
      "execution_count": 43,
      "outputs": [
        {
          "output_type": "stream",
          "name": "stdout",
          "text": [
            "{'n_estimators': [100, 105, 111, 116, 122, 127, 133, 138, 144, 150], 'max_features': ['auto', 'sqrt'], 'max_depth': [100, 150], 'min_samples_split': [2, 5], 'min_samples_leaf': [1, 2], 'bootstrap': [True, False]}\n"
          ]
        }
      ]
    },
    {
      "cell_type": "code",
      "source": [
        "from sklearn.model_selection import RandomizedSearchCV\n",
        "\n",
        "rf_Model = RandomForestClassifier()\n",
        "rf_RandomGrid = RandomizedSearchCV(estimator = rf_Model, param_distributions = param_grid, cv = 3, verbose=1, n_jobs = 4)"
      ],
      "metadata": {
        "id": "f86Fx8RsU4tL"
      },
      "execution_count": 44,
      "outputs": []
    },
    {
      "cell_type": "code",
      "source": [
        "rf_RandomGrid.fit(X_train_t, y_train)"
      ],
      "metadata": {
        "colab": {
          "base_uri": "https://localhost:8080/"
        },
        "id": "adEv4sAEU4xK",
        "outputId": "f28e5faa-9cf4-4bb8-ff2d-f78c6dcd90cf"
      },
      "execution_count": 45,
      "outputs": [
        {
          "output_type": "stream",
          "name": "stdout",
          "text": [
            "Fitting 3 folds for each of 10 candidates, totalling 30 fits\n"
          ]
        },
        {
          "output_type": "execute_result",
          "data": {
            "text/plain": [
              "RandomizedSearchCV(cv=3, estimator=RandomForestClassifier(), n_jobs=4,\n",
              "                   param_distributions={'bootstrap': [True, False],\n",
              "                                        'max_depth': [100, 150],\n",
              "                                        'max_features': ['auto', 'sqrt'],\n",
              "                                        'min_samples_leaf': [1, 2],\n",
              "                                        'min_samples_split': [2, 5],\n",
              "                                        'n_estimators': [100, 105, 111, 116,\n",
              "                                                         122, 127, 133, 138,\n",
              "                                                         144, 150]},\n",
              "                   verbose=1)"
            ]
          },
          "metadata": {},
          "execution_count": 45
        }
      ]
    },
    {
      "cell_type": "code",
      "source": [
        "rf_RandomGrid.best_params_"
      ],
      "metadata": {
        "id": "-SJoDuipVedO",
        "colab": {
          "base_uri": "https://localhost:8080/"
        },
        "outputId": "a4fe4758-3458-4d84-c093-734711fd71c4"
      },
      "execution_count": 46,
      "outputs": [
        {
          "output_type": "execute_result",
          "data": {
            "text/plain": [
              "{'n_estimators': 116,\n",
              " 'min_samples_split': 2,\n",
              " 'min_samples_leaf': 1,\n",
              " 'max_features': 'auto',\n",
              " 'max_depth': 100,\n",
              " 'bootstrap': False}"
            ]
          },
          "metadata": {},
          "execution_count": 46
        }
      ]
    },
    {
      "cell_type": "code",
      "source": [
        "print (f'Train Accuracy - : {rf_RandomGrid.score(X_train_t,y_train):.3f}')\n",
        "print (f'Test Accuracy - : {rf_RandomGrid.score(X_test_t,y_test):.3f}')"
      ],
      "metadata": {
        "id": "XcVx_jMUVegR",
        "colab": {
          "base_uri": "https://localhost:8080/"
        },
        "outputId": "2f7e595d-2d58-4776-c8de-bbc90d247a55"
      },
      "execution_count": 47,
      "outputs": [
        {
          "output_type": "stream",
          "name": "stdout",
          "text": [
            "Train Accuracy - : 0.813\n",
            "Test Accuracy - : 0.431\n"
          ]
        }
      ]
    },
    {
      "cell_type": "markdown",
      "source": [
        "## 5. Share insights on relative performance comparison [8 Marks]"
      ],
      "metadata": {
        "id": "6d4zzcalQbto"
      }
    },
    {
      "cell_type": "markdown",
      "source": [
        "***A. Which vectorizer performed better? Probable reason?.\n",
        "[2 Marks]***\n",
        "\n",
        "Both the vectorizers give similar accuracy. Tf-ifd gives slightly better F1 score. Since it gives importance to words specific the individual documents."
      ],
      "metadata": {
        "id": "pzV1FtyRQkHw"
      }
    },
    {
      "cell_type": "markdown",
      "source": [
        "***B. Which model outperformed? Probable reason? [2 Marks]***\n",
        "\n",
        "Random forest classifier is giving the best results. But it's performace is only slightly better than the rest."
      ],
      "metadata": {
        "id": "8pveLhyJQlQf"
      }
    },
    {
      "cell_type": "markdown",
      "source": [
        "***C. Which parameter/hyperparameter significantly helped to improve performance?Probable reason?. [2 Marks]***\n",
        "In Random Forest classifier the n_estimator affects the results."
      ],
      "metadata": {
        "id": "M9REG6APQo_U"
      }
    },
    {
      "cell_type": "markdown",
      "source": [
        "***D. According to you, which performance metric should be given most importance, why?. [2 Marks]***\n",
        "\n",
        "Accuracy and F1 score should be given most importance as we are trying to predict labels.\n",
        "\n",
        "The dataset should contain similar number of blogs from each topic. Imbalanced dataset with too many categories gives bad performance.\n"
      ],
      "metadata": {
        "id": "ubvqXSyAQpCU"
      }
    },
    {
      "cell_type": "markdown",
      "source": [
        "# Part B"
      ],
      "metadata": {
        "id": "mpwZwUjVN5UP"
      }
    },
    {
      "cell_type": "markdown",
      "source": [
        "PROJECT OBJECTIVE: Design a python based interactive semi - rule based chatbot which can do the following:"
      ],
      "metadata": {
        "id": "giHkggoab7vr"
      }
    },
    {
      "cell_type": "markdown",
      "source": [
        "Input the corpus\n",
        "\n",
        "Perform data pre-processing on corpus\n",
        "\n",
        "Text case [upper or lower] handling \n",
        "\n",
        "Tokenisation\n",
        "\n",
        "Stemming\n",
        "\n",
        "Generate BOW [Bag of Words]\n",
        "\n",
        "Generate one hot encoding for the target column\n",
        "\n",
        "Design a neural network to classify the words with TAGS as target outputs\n",
        "\n",
        "Design a function to speak the output text\n",
        "\n",
        "Design a function to listen to the user and convert the spoken words into text\n",
        "\n",
        "Design a chat utility as a function to interact with the user till they call a “quit”\n",
        "\n",
        "Run the chat utility function."
      ],
      "metadata": {
        "id": "OPMYPUETeWGS"
      }
    },
    {
      "cell_type": "code",
      "source": [
        "# Input the corpus\n",
        "import json\n",
        "import numpy\n",
        "import nltk\n",
        "from nltk.corpus import stopwords\n",
        "nltk.download('stopwords')\n",
        "stopwords=set(stopwords.words('english'))\n",
        "with open('GL+Bot.json') as file:\n",
        "  Corpus = json.load(file)\n",
        "\n",
        "  print(Corpus)"
      ],
      "metadata": {
        "id": "IvivBMhaN9Sr",
        "colab": {
          "base_uri": "https://localhost:8080/"
        },
        "outputId": "8eb3eaa7-95e4-4ed2-8682-a475347ad703"
      },
      "execution_count": 48,
      "outputs": [
        {
          "output_type": "stream",
          "name": "stdout",
          "text": [
            "{'intents': [{'tag': 'Intro', 'patterns': ['hi', 'how are you', 'is anyone there', 'hello', 'whats up', 'hey', 'yo', 'listen', 'please help me', 'i am learner from', 'i belong to', 'aiml batch', 'aifl batch', 'i am from', 'my pm is', 'blended', 'online', 'i am from', 'hey ya', 'talking to you for first time'], 'responses': ['Hello! how can i help you ?', 'My name is Siri. PLease tell me your query', 'Hi! Hope you are doing well', 'Hello user! I am Siri', 'Siri is here to assist you.'], 'context_set': ''}, {'tag': 'Exit', 'patterns': ['thank you', 'thanks', 'cya', 'see you', 'later', 'see you later', 'goodbye', 'i am leaving', 'have a Good day', 'you helped me', 'thanks a lot', 'thanks a ton', 'you are the best', 'great help', 'too good', 'you are a good learning buddy'], 'responses': ['I hope I was able to assist you, Good Bye', 'Thank you for sharing your query', 'Happy to help!', 'No problems'], 'context_set': ''}, {'tag': 'Olympus', 'patterns': ['olympus', 'explain me how olympus works', 'I am not able to understand olympus', 'olympus window not working', 'no access to olympus', 'unable to see link in olympus', 'no link visible on olympus', 'whom to contact for olympus', 'lot of problem with olympus', 'olypus is not a good tool', 'lot of problems with olympus', 'how to use olympus', 'teach me olympus'], 'responses': ['Please refer to the link https://www.mygreatlearning.com/olympus-digital-campus', 'Please try to refresh your window', 'Please clear the cache', 'Kindly contact the program office with screenshot of error'], 'context_set': ''}, {'tag': 'SL', 'patterns': ['i am not able to understand svm', 'explain me how machine learning works', 'i am not able to understand naive bayes', 'i am not able to understand logistic regression', 'i am not able to understand ensemble techb=niques', 'i am not able to understand knn', 'i am not able to understand knn imputer', 'i am not able to understand cross validation', 'i am not able to understand boosting', 'i am not able to understand random forest', 'i am not able to understand ada boosting', 'i am not able to understand gradient boosting', 'machine learning', 'ML', 'SL', 'supervised learning', 'knn', 'logistic regression', 'regression', 'classification', 'naive bayes', 'nb', 'ensemble techniques', 'bagging', 'boosting', 'ada boosting', 'ada', 'gradient boosting', 'hyper parameters'], 'responses': ['Please refer to https://en.wikipedia.org/wiki/Supervised_learning ', 'Please refer to the videos for Supervised Learning', 'Please refer to the blogs for Supervised Learning https://www.ibm.com/cloud/blog/supervised-vs-unsupervised-learning'], 'context_set': ''}, {'tag': 'NN', 'patterns': ['what is deep learning', 'unable to understand deep learning', 'explain me how deep learning works', 'i am not able to understand deep learning', 'not able to understand neural nets', 'very diffult to understand neural nets', 'unable to understand neural nets', 'ann', 'artificial intelligence', 'artificial neural networks', 'weights', 'neural nets', 'nn', 'activation function', 'hidden layers', 'softmax', 'sigmoid', 'relu', 'otimizer', 'forward propagation', 'backward propagation', 'epochs', 'epoch', 'what is an epoch', 'adam', 'sgd'], 'responses': ['This blog might be useful https://en.wikipedia.org/wiki/Neural_network', 'Please refer to the videos on Neural networks'], 'context_set': ''}, {'tag': 'Bot_name', 'patterns': ['what is your name', 'who are you', 'name please'], 'responses': ['I am your virtual learning assistant', 'My name is Siri', 'I am Siri'], 'context_set': ''}, {'tag': 'Bot_time', 'patterns': ['when are your hours of opertions', 'what are your working hours', 'hours of operation', 'working hours', 'hours', 'when are you available', 'when can I talk to you', 'when do you work', 'when do you operate'], 'responses': ['I am responsive 24/7', 'I can respond any time', 'I am Siri. I am always available to help you', 'I am Siri'], 'context_set': ''}, {'tag': 'Profane', 'patterns': ['what the hell', 'bloody stupid bot', 'do you think you are very smart', 'screw you', 'i hate you', 'you are stupid', 'jerk', 'you are a joke', 'useless piece of shit'], 'responses': ['Please use respectful words', 'I do not appreciate such language', 'Hate speech is not tolerated', \"Kindly don't use such language'\"], 'context_set': ''}, {'tag': 'Ticket', 'patterns': ['my problem is not solved', 'you did not help me', 'not a good solution', 'bad solution', 'not good solution', 'no help', 'wasted my time', 'useless bot', 'create a ticket'], 'responses': ['Tarnsferring the request to your PM', 'Kindly contact the program office', \"I am sorry I could'nt help you\", 'Please raise a ticket in Olympus', 'The program manager would be able to help you'], 'context_set': ''}]}\n"
          ]
        },
        {
          "output_type": "stream",
          "name": "stderr",
          "text": [
            "[nltk_data] Downloading package stopwords to /root/nltk_data...\n",
            "[nltk_data]   Package stopwords is already up-to-date!\n"
          ]
        }
      ]
    },
    {
      "cell_type": "code",
      "source": [
        "# Perform Data preprocessing on corpus\n",
        "# Tokenisation\n",
        "nltk.download('punkt')\n",
        "\n",
        "W = [] # Tokens\n",
        "L = [] # Identified Tags or Labels\n",
        "doc_x = [] # Tokenised word\n",
        "doc_y = [] # Tags or Labels\n",
        "\n",
        "for intent in Corpus['intents']:\n",
        "  for pattern in intent['patterns']:\n",
        "    w_temp = nltk.word_tokenize(pattern)\n",
        "    W.extend(w_temp)\n",
        "    doc_x.append(w_temp)\n",
        "    doc_y.append(intent[\"tag\"])\n",
        "\n",
        "  #Add the missing tag if any\n",
        "  if intent['tag'] not in L:\n",
        "    L.append(intent['tag'])"
      ],
      "metadata": {
        "id": "vv-SLm3cgSjF",
        "colab": {
          "base_uri": "https://localhost:8080/"
        },
        "outputId": "1765cfcb-1434-4b46-f68c-a84b603bbd6d"
      },
      "execution_count": 49,
      "outputs": [
        {
          "output_type": "stream",
          "name": "stderr",
          "text": [
            "[nltk_data] Downloading package punkt to /root/nltk_data...\n",
            "[nltk_data]   Package punkt is already up-to-date!\n"
          ]
        }
      ]
    },
    {
      "cell_type": "code",
      "source": [
        "# Stemming\n",
        "from nltk.stem import PorterStemmer\n",
        "stemmer = PorterStemmer()\n",
        "W = [stemmer.stem(w.lower()) for w in W if w !=\"?\"]\n",
        "W = sorted(list(set(W)))\n",
        "L = sorted(L)"
      ],
      "metadata": {
        "id": "1Hzqz08shv-y"
      },
      "execution_count": 50,
      "outputs": []
    },
    {
      "cell_type": "code",
      "source": [
        "# Bag of words\n",
        "Train = [] #Training data for NN\n",
        "Target = [] # Target data for NN\n",
        "\n",
        "out_empty = [0 for _ in range(len(L))]\n",
        "\n",
        "# Loop to create bag of words and put the frequency count in each word \n",
        "for x, doc in enumerate(doc_x):\n",
        "  bag=[]\n",
        "\n",
        "  w_temp = [stemmer.stem(w.lower()) for w in doc]\n",
        "\n",
        "  for w in W:\n",
        "    if w in w_temp:\n",
        "      bag.append(1)\n",
        "    else:\n",
        "      bag.append(0)\n",
        "\n",
        "  output_row = out_empty[:]\n",
        "  output_row[L.index(doc_y[x])]=1\n",
        "\n",
        "  Train.append(bag)\n",
        "  Target.append(output_row)\n",
        "\n",
        "Train = numpy.array(Train)\n",
        "Target = numpy.array(Target)"
      ],
      "metadata": {
        "id": "AengRkf1kPZ2"
      },
      "execution_count": 51,
      "outputs": []
    },
    {
      "cell_type": "code",
      "source": [
        "Target[0]"
      ],
      "metadata": {
        "id": "_U-YYm_4-s6u",
        "colab": {
          "base_uri": "https://localhost:8080/"
        },
        "outputId": "900d500c-d227-48ef-a92c-6bedbde8f2e7"
      },
      "execution_count": 52,
      "outputs": [
        {
          "output_type": "execute_result",
          "data": {
            "text/plain": [
              "array([0, 0, 0, 1, 0, 0, 0, 0, 0])"
            ]
          },
          "metadata": {},
          "execution_count": 52
        }
      ]
    },
    {
      "cell_type": "code",
      "source": [
        "def bag_of_words(s, words):\n",
        "    bag = [0 for _ in range(len(words))]\n",
        "    \n",
        "    s_words = nltk.word_tokenize(s)\n",
        "    s_words = [stemmer.stem(word.lower()) for word in s_words]\n",
        "    \n",
        "    for se in s_words:\n",
        "        for i, w in enumerate(words):\n",
        "            if w == se:\n",
        "                bag[i] = 1\n",
        "                \n",
        "    return numpy.array(bag)"
      ],
      "metadata": {
        "id": "G94gUne8svPf"
      },
      "execution_count": 53,
      "outputs": []
    },
    {
      "cell_type": "code",
      "source": [
        "# Code for Neural Network classifier\n",
        "from keras.models import Sequential\n",
        "from keras.layers import Activation, Dense, Dropout\n",
        "\n",
        "model = Sequential()\n",
        "model.add(Dense(64, input_dim=len(Train[0]), activation='relu'))\n",
        "model.add(Dropout(0.5))\n",
        "model.add(Dense(32, activation='relu'))\n",
        "model.add(Dropout(0.5))\n",
        "model.add(Dense(len(Target[0]),  activation='softmax'))\n",
        "\n",
        "model.compile(loss=\"categorical_crossentropy\", metrics=[\"accuracy\"], optimizer=\"sgd\")\n",
        "model.fit(x=Train, y=Target, epochs=1000, batch_size=16, verbose=0)\n"
      ],
      "metadata": {
        "id": "R2LLziwbmMqX",
        "colab": {
          "base_uri": "https://localhost:8080/"
        },
        "outputId": "5b2e3632-e6fa-4d43-e3ab-f3fd51f76590"
      },
      "execution_count": 54,
      "outputs": [
        {
          "output_type": "execute_result",
          "data": {
            "text/plain": [
              "<keras.callbacks.History at 0x7ff595c9ce90>"
            ]
          },
          "metadata": {},
          "execution_count": 54
        }
      ]
    },
    {
      "cell_type": "code",
      "source": [
        "# Text chat utility fuction\n",
        "import random\n",
        "def chat():\n",
        "  print(\"Please type in the box (type:stop to quit)\")\n",
        "  print(\"If answer is not right(type: *)\")\n",
        "  while True:\n",
        "    inp = input(\"\\n\\n You: \")\n",
        "    if inp.lower()==\"*\":\n",
        "      print(\"Siri:Please rephrase your question and try again\")\n",
        "    if inp.lower()==\"quit\":\n",
        "      break\n",
        "    inp=inp.lower()\n",
        "    results = model.predict(np.array([bag_of_words(inp,W)]))\n",
        "    results_index = numpy.argmax(results)\n",
        "    #print(results)\n",
        "    tag = L[results_index]\n",
        "    #print(tag)\n",
        "\n",
        "    for tg in Corpus[\"intents\"]:\n",
        "      if tg['tag']==tag:\n",
        "        responses=tg['responses']\n",
        "\n",
        "    print(\"Siri:\",random.choice(responses))"
      ],
      "metadata": {
        "id": "ND1JqI51poWD"
      },
      "execution_count": 55,
      "outputs": []
    },
    {
      "cell_type": "code",
      "source": [
        "chat()"
      ],
      "metadata": {
        "id": "OvnZlSDgriQs",
        "colab": {
          "base_uri": "https://localhost:8080/"
        },
        "outputId": "d358d3cf-38dc-439e-9e08-23c52ff61072"
      },
      "execution_count": null,
      "outputs": [
        {
          "output_type": "stream",
          "name": "stdout",
          "text": [
            "Please type in the box (type:stop to quit)\n",
            "If answer is not right(type: *)\n",
            "\n",
            "\n",
            " You: hi\n",
            "Siri: Siri is here to assist you.\n",
            "\n",
            "\n",
            " You: hello\n",
            "Siri: Hello! how can i help you ?\n",
            "\n",
            "\n",
            " You: eopch\n",
            "Siri: My name is Siri. PLease tell me your query\n",
            "\n",
            "\n",
            " You: i dont understant ml\n",
            "Siri: Please refer to the videos for Supervised Learning\n"
          ]
        }
      ]
    }
  ]
}