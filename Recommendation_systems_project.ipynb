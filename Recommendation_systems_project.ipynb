{
 "cells": [
  {
   "cell_type": "markdown",
   "id": "c60d13a4",
   "metadata": {},
   "source": [
    "## Module Name: Recommendation systems\n",
    "### Name: Priyanka Balakrishna Hejmadi"
   ]
  },
  {
   "cell_type": "markdown",
   "id": "b40e4b9d",
   "metadata": {},
   "source": [
    "PROJECT OBJECTIVE: We will build a recommendation system using popularity based and collaborative filtering methods to recommend\n",
    "mobile phones to a user which are most popular and personalised respectively."
   ]
  },
  {
   "cell_type": "markdown",
   "id": "b9af6c18",
   "metadata": {},
   "source": [
    "#### 1. Import the necessary libraries and read the provided CSVs as a data frame and perform the below steps. [15 Marks]"
   ]
  },
  {
   "cell_type": "code",
   "execution_count": 1,
   "id": "9d1e4e37",
   "metadata": {},
   "outputs": [],
   "source": [
    "import numpy as np\n",
    "import pandas as pd\n",
    "import matplotlib.pyplot as plt\n",
    "import seaborn  as sns"
   ]
  },
  {
   "cell_type": "code",
   "execution_count": 2,
   "id": "944d60d7",
   "metadata": {},
   "outputs": [],
   "source": [
    "# A. Merge all the provided CSVs into one dataFrame. [2 Marks]\n",
    "df1 = pd.read_csv(\"phone_user_review_file_1.csv\")\n",
    "df2 = pd.read_csv(\"phone_user_review_file_2.csv\")\n",
    "df3 = pd.read_csv(\"phone_user_review_file_3.csv\")\n",
    "df4 = pd.read_csv(\"phone_user_review_file_4.csv\")\n",
    "df5 = pd.read_csv(\"phone_user_review_file_5.csv\")"
   ]
  },
  {
   "cell_type": "code",
   "execution_count": 3,
   "id": "6196b127",
   "metadata": {},
   "outputs": [
    {
     "name": "stdout",
     "output_type": "stream",
     "text": [
      "(374910, 11)\n",
      "(114925, 11)\n",
      "(312961, 11)\n",
      "(98284, 11)\n",
      "(350216, 11)\n"
     ]
    }
   ],
   "source": [
    "print(df1.shape)\n",
    "print(df2.shape)\n",
    "print(df3.shape)\n",
    "print(df4.shape)\n",
    "print(df5.shape)"
   ]
  },
  {
   "cell_type": "code",
   "execution_count": 4,
   "id": "30390273",
   "metadata": {},
   "outputs": [
    {
     "name": "stdout",
     "output_type": "stream",
     "text": [
      "Index(['phone_url', 'date', 'lang', 'country', 'source', 'domain', 'score',\n",
      "       'score_max', 'extract', 'author', 'product'],\n",
      "      dtype='object')\n",
      "Index(['phone_url', 'date', 'lang', 'country', 'source', 'domain', 'score',\n",
      "       'score_max', 'extract', 'author', 'product'],\n",
      "      dtype='object')\n",
      "Index(['phone_url', 'date', 'lang', 'country', 'source', 'domain', 'score',\n",
      "       'score_max', 'extract', 'author', 'product'],\n",
      "      dtype='object')\n",
      "Index(['phone_url', 'date', 'lang', 'country', 'source', 'domain', 'score',\n",
      "       'score_max', 'extract', 'author', 'product'],\n",
      "      dtype='object')\n",
      "Index(['phone_url', 'date', 'lang', 'country', 'source', 'domain', 'score',\n",
      "       'score_max', 'extract', 'author', 'product'],\n",
      "      dtype='object')\n"
     ]
    }
   ],
   "source": [
    "print(df1.columns)\n",
    "print(df2.columns)\n",
    "print(df3.columns)\n",
    "print(df4.columns)\n",
    "print(df5.columns)"
   ]
  },
  {
   "cell_type": "markdown",
   "id": "ac7a8013",
   "metadata": {},
   "source": [
    "All the dataframes have the same columns so we append them one after the other."
   ]
  },
  {
   "cell_type": "code",
   "execution_count": 5,
   "id": "824cadb6",
   "metadata": {},
   "outputs": [
    {
     "data": {
      "text/plain": [
       "(1251296, 11)"
      ]
     },
     "execution_count": 5,
     "metadata": {},
     "output_type": "execute_result"
    }
   ],
   "source": [
    "frames = [df1, df2, df3, df4, df5]\n",
    "df = pd.concat(frames)\n",
    "df.shape"
   ]
  },
  {
   "cell_type": "code",
   "execution_count": 6,
   "id": "9cb069c1",
   "metadata": {},
   "outputs": [
    {
     "name": "stdout",
     "output_type": "stream",
     "text": [
      "<class 'pandas.core.frame.DataFrame'>\n",
      "Int64Index: 1251296 entries, 0 to 350215\n",
      "Data columns (total 11 columns):\n",
      " #   Column     Non-Null Count    Dtype  \n",
      "---  ------     --------------    -----  \n",
      " 0   phone_url  1251296 non-null  object \n",
      " 1   date       1251296 non-null  object \n",
      " 2   lang       1251296 non-null  object \n",
      " 3   country    1251296 non-null  object \n",
      " 4   source     1251296 non-null  object \n",
      " 5   domain     1251296 non-null  object \n",
      " 6   score      1199479 non-null  float64\n",
      " 7   score_max  1199479 non-null  float64\n",
      " 8   extract    1234823 non-null  object \n",
      " 9   author     1201151 non-null  object \n",
      " 10  product    1251295 non-null  object \n",
      "dtypes: float64(2), object(9)\n",
      "memory usage: 114.6+ MB\n"
     ]
    }
   ],
   "source": [
    "# B. Explore, understand the Data and share at least 2 observations. [2 Marks]\n",
    "df.info()"
   ]
  },
  {
   "cell_type": "markdown",
   "id": "0e8ec20d",
   "metadata": {},
   "source": [
    "The dataset has 2 numerical variables and the  rest of them are categorical. "
   ]
  },
  {
   "cell_type": "code",
   "execution_count": 7,
   "id": "fa096f09",
   "metadata": {},
   "outputs": [
    {
     "data": {
      "text/html": [
       "<div>\n",
       "<style scoped>\n",
       "    .dataframe tbody tr th:only-of-type {\n",
       "        vertical-align: middle;\n",
       "    }\n",
       "\n",
       "    .dataframe tbody tr th {\n",
       "        vertical-align: top;\n",
       "    }\n",
       "\n",
       "    .dataframe thead th {\n",
       "        text-align: right;\n",
       "    }\n",
       "</style>\n",
       "<table border=\"1\" class=\"dataframe\">\n",
       "  <thead>\n",
       "    <tr style=\"text-align: right;\">\n",
       "      <th></th>\n",
       "      <th>score</th>\n",
       "      <th>score_max</th>\n",
       "    </tr>\n",
       "  </thead>\n",
       "  <tbody>\n",
       "    <tr>\n",
       "      <th>count</th>\n",
       "      <td>1.199479e+06</td>\n",
       "      <td>1199479.0</td>\n",
       "    </tr>\n",
       "    <tr>\n",
       "      <th>mean</th>\n",
       "      <td>8.050337e+00</td>\n",
       "      <td>10.0</td>\n",
       "    </tr>\n",
       "    <tr>\n",
       "      <th>std</th>\n",
       "      <td>2.622776e+00</td>\n",
       "      <td>0.0</td>\n",
       "    </tr>\n",
       "    <tr>\n",
       "      <th>min</th>\n",
       "      <td>2.000000e-01</td>\n",
       "      <td>10.0</td>\n",
       "    </tr>\n",
       "    <tr>\n",
       "      <th>25%</th>\n",
       "      <td>8.000000e+00</td>\n",
       "      <td>10.0</td>\n",
       "    </tr>\n",
       "    <tr>\n",
       "      <th>50%</th>\n",
       "      <td>1.000000e+01</td>\n",
       "      <td>10.0</td>\n",
       "    </tr>\n",
       "    <tr>\n",
       "      <th>75%</th>\n",
       "      <td>1.000000e+01</td>\n",
       "      <td>10.0</td>\n",
       "    </tr>\n",
       "    <tr>\n",
       "      <th>max</th>\n",
       "      <td>1.000000e+01</td>\n",
       "      <td>10.0</td>\n",
       "    </tr>\n",
       "  </tbody>\n",
       "</table>\n",
       "</div>"
      ],
      "text/plain": [
       "              score  score_max\n",
       "count  1.199479e+06  1199479.0\n",
       "mean   8.050337e+00       10.0\n",
       "std    2.622776e+00        0.0\n",
       "min    2.000000e-01       10.0\n",
       "25%    8.000000e+00       10.0\n",
       "50%    1.000000e+01       10.0\n",
       "75%    1.000000e+01       10.0\n",
       "max    1.000000e+01       10.0"
      ]
     },
     "execution_count": 7,
     "metadata": {},
     "output_type": "execute_result"
    }
   ],
   "source": [
    "df.describe()"
   ]
  },
  {
   "cell_type": "markdown",
   "id": "90bc10d2",
   "metadata": {},
   "source": [
    "The score_max variable has  a few missing values and is otherwise constant. It does not provide any useful information and can be dropped."
   ]
  },
  {
   "cell_type": "code",
   "execution_count": 8,
   "id": "a48b1730",
   "metadata": {},
   "outputs": [
    {
     "name": "stdout",
     "output_type": "stream",
     "text": [
      "phone_url : 3198\n",
      "date : 5762\n",
      "lang : 21\n",
      "country : 41\n",
      "source : 318\n",
      "domain : 370\n",
      "score : 83\n",
      "score_max : 1\n",
      "extract : 1166393\n",
      "author : 705368\n",
      "product : 52239\n"
     ]
    }
   ],
   "source": [
    "for feature in df.columns:\n",
    "    print(feature, \":\" ,df[feature].nunique())"
   ]
  },
  {
   "cell_type": "markdown",
   "id": "3344e9e4",
   "metadata": {},
   "source": [
    "The authors of the reviews come from 41 countries and have  given the reviews in 21 languages. "
   ]
  },
  {
   "cell_type": "code",
   "execution_count": 9,
   "id": "fac1c35f",
   "metadata": {},
   "outputs": [],
   "source": [
    "# C. Round off scores to the nearest integers. [3 Marks]\n",
    "df = df.round(0)"
   ]
  },
  {
   "cell_type": "code",
   "execution_count": 10,
   "id": "4258a214",
   "metadata": {},
   "outputs": [
    {
     "data": {
      "text/plain": [
       "phone_url        0\n",
       "date             0\n",
       "lang             0\n",
       "country          0\n",
       "source           0\n",
       "domain           0\n",
       "score        51817\n",
       "score_max    51817\n",
       "extract      16473\n",
       "author       50145\n",
       "product          1\n",
       "dtype: int64"
      ]
     },
     "execution_count": 10,
     "metadata": {},
     "output_type": "execute_result"
    }
   ],
   "source": [
    "# D. Check for missing values. Impute the missing values, if any. [2 Marks]\n",
    "df.isnull().sum()"
   ]
  },
  {
   "cell_type": "code",
   "execution_count": 11,
   "id": "95186843",
   "metadata": {},
   "outputs": [],
   "source": [
    "df.dropna(inplace=True) # We drop the missing values."
   ]
  },
  {
   "cell_type": "code",
   "execution_count": 12,
   "id": "3b0848e0",
   "metadata": {},
   "outputs": [
    {
     "data": {
      "text/plain": [
       "phone_url    0\n",
       "date         0\n",
       "lang         0\n",
       "country      0\n",
       "source       0\n",
       "domain       0\n",
       "score        0\n",
       "score_max    0\n",
       "extract      0\n",
       "author       0\n",
       "product      0\n",
       "dtype: int64"
      ]
     },
     "execution_count": 12,
     "metadata": {},
     "output_type": "execute_result"
    }
   ],
   "source": [
    "df.isnull().sum()"
   ]
  },
  {
   "cell_type": "code",
   "execution_count": 13,
   "id": "699333f9",
   "metadata": {},
   "outputs": [
    {
     "data": {
      "text/plain": [
       "(1138675, 11)"
      ]
     },
     "execution_count": 13,
     "metadata": {},
     "output_type": "execute_result"
    }
   ],
   "source": [
    "df.shape"
   ]
  },
  {
   "cell_type": "code",
   "execution_count": 14,
   "id": "223386ff",
   "metadata": {},
   "outputs": [
    {
     "data": {
      "text/plain": [
       "4182"
      ]
     },
     "execution_count": 14,
     "metadata": {},
     "output_type": "execute_result"
    }
   ],
   "source": [
    "# E. Check for duplicate values and remove them, if any. [2 Marks]\n",
    "df.duplicated(keep='first').sum()"
   ]
  },
  {
   "cell_type": "code",
   "execution_count": 15,
   "id": "62b5a980",
   "metadata": {},
   "outputs": [],
   "source": [
    "df.drop_duplicates(keep='first', inplace=True)"
   ]
  },
  {
   "cell_type": "code",
   "execution_count": 16,
   "id": "7308c3cf",
   "metadata": {},
   "outputs": [
    {
     "data": {
      "text/plain": [
       "(1134493, 11)"
      ]
     },
     "execution_count": 16,
     "metadata": {},
     "output_type": "execute_result"
    }
   ],
   "source": [
    "df.shape"
   ]
  },
  {
   "cell_type": "code",
   "execution_count": 17,
   "id": "7bad9252",
   "metadata": {},
   "outputs": [],
   "source": [
    "# F. Keep only 1 Million data samples. Use random state=612. [2 Marks]\n",
    "df = df.sample(1000000, random_state =612)"
   ]
  },
  {
   "cell_type": "code",
   "execution_count": 18,
   "id": "b589c381",
   "metadata": {},
   "outputs": [
    {
     "data": {
      "text/plain": [
       "(1000000, 11)"
      ]
     },
     "execution_count": 18,
     "metadata": {},
     "output_type": "execute_result"
    }
   ],
   "source": [
    "df.shape"
   ]
  },
  {
   "cell_type": "code",
   "execution_count": 19,
   "id": "fbfabc91",
   "metadata": {},
   "outputs": [
    {
     "data": {
      "text/plain": [
       "Index(['phone_url', 'date', 'lang', 'country', 'source', 'domain', 'score',\n",
       "       'score_max', 'extract', 'author', 'product'],\n",
       "      dtype='object')"
      ]
     },
     "execution_count": 19,
     "metadata": {},
     "output_type": "execute_result"
    }
   ],
   "source": [
    "df.columns"
   ]
  },
  {
   "cell_type": "code",
   "execution_count": 20,
   "id": "1537775a",
   "metadata": {},
   "outputs": [
    {
     "data": {
      "text/html": [
       "<div>\n",
       "<style scoped>\n",
       "    .dataframe tbody tr th:only-of-type {\n",
       "        vertical-align: middle;\n",
       "    }\n",
       "\n",
       "    .dataframe tbody tr th {\n",
       "        vertical-align: top;\n",
       "    }\n",
       "\n",
       "    .dataframe thead th {\n",
       "        text-align: right;\n",
       "    }\n",
       "</style>\n",
       "<table border=\"1\" class=\"dataframe\">\n",
       "  <thead>\n",
       "    <tr style=\"text-align: right;\">\n",
       "      <th></th>\n",
       "      <th>score</th>\n",
       "      <th>author</th>\n",
       "      <th>product</th>\n",
       "    </tr>\n",
       "  </thead>\n",
       "  <tbody>\n",
       "    <tr>\n",
       "      <th>3615</th>\n",
       "      <td>10.0</td>\n",
       "      <td>inffomaster1976@gmail.com</td>\n",
       "      <td>Smartphone Nokia Lumia 630 Dual, 3G TV Digital...</td>\n",
       "    </tr>\n",
       "    <tr>\n",
       "      <th>43477</th>\n",
       "      <td>9.0</td>\n",
       "      <td>PriscillaFleur</td>\n",
       "      <td>Sony Xperia Z3 Compact oranje / 16 GB - Overzicht</td>\n",
       "    </tr>\n",
       "    <tr>\n",
       "      <th>34348</th>\n",
       "      <td>9.0</td>\n",
       "      <td>jos</td>\n",
       "      <td>Samsung Galaxy S7 zwart / 32 GB</td>\n",
       "    </tr>\n",
       "    <tr>\n",
       "      <th>93259</th>\n",
       "      <td>10.0</td>\n",
       "      <td>Amazon Customer</td>\n",
       "      <td>Motorola Nexus 6 Unlocked Smartphone, 32 GB, U...</td>\n",
       "    </tr>\n",
       "    <tr>\n",
       "      <th>205718</th>\n",
       "      <td>10.0</td>\n",
       "      <td>Amazon Customer</td>\n",
       "      <td>LG Electronics Nexus 5X Unlocked Smart Phone, ...</td>\n",
       "    </tr>\n",
       "  </tbody>\n",
       "</table>\n",
       "</div>"
      ],
      "text/plain": [
       "        score                     author  \\\n",
       "3615     10.0  inffomaster1976@gmail.com   \n",
       "43477     9.0             PriscillaFleur   \n",
       "34348     9.0                        jos   \n",
       "93259    10.0            Amazon Customer   \n",
       "205718   10.0            Amazon Customer   \n",
       "\n",
       "                                                  product  \n",
       "3615    Smartphone Nokia Lumia 630 Dual, 3G TV Digital...  \n",
       "43477   Sony Xperia Z3 Compact oranje / 16 GB - Overzicht  \n",
       "34348                     Samsung Galaxy S7 zwart / 32 GB  \n",
       "93259   Motorola Nexus 6 Unlocked Smartphone, 32 GB, U...  \n",
       "205718  LG Electronics Nexus 5X Unlocked Smart Phone, ...  "
      ]
     },
     "execution_count": 20,
     "metadata": {},
     "output_type": "execute_result"
    }
   ],
   "source": [
    "# G. Drop irrelevant features. Keep features like Author, Product, and Score. [2 Marks]\n",
    "df.drop(['phone_url', 'date', 'lang', 'country', 'source', 'domain','score_max','extract'], axis=1, inplace=True)\n",
    "df.head()"
   ]
  },
  {
   "cell_type": "markdown",
   "id": "b5313800",
   "metadata": {},
   "source": [
    "#### 2. Answer the following questions. [10 Marks]"
   ]
  },
  {
   "cell_type": "code",
   "execution_count": 21,
   "id": "4bc0f955",
   "metadata": {},
   "outputs": [
    {
     "data": {
      "text/plain": [
       "Lenovo Vibe K4 Note (White,16GB)                                                                                                                                   4596\n",
       "Lenovo Vibe K4 Note (Black, 16GB)                                                                                                                                  3885\n",
       "OnePlus 3 (Graphite, 64 GB)                                                                                                                                        3596\n",
       "OnePlus 3 (Soft Gold, 64 GB)                                                                                                                                       3124\n",
       "Huawei P8lite zwart / 16 GB                                                                                                                                        2367\n",
       "                                                                                                                                                                   ... \n",
       "Apple iPhone 5c 32GB Amarelo Desbloqueado Câmera 8MP 4G e Wi-Fi Apple                                                                                                 1\n",
       "LG Bumper Preto Optimus G2 - LG                                                                                                                                       1\n",
       "Oukitel U7 Plus - 5,5 pollici HD Android 6.0 4G smartphone quad-core a 1,3 GHz 2 GB di RAM 16 GB ROM scanner di impronte digitali GPS Dual SIM 13 MP - oro rosa       1\n",
       "Samsung GALAXY Pocket 2 - SM-G110H - black - 3G 4 GB - GSM - Android Phone                                                                                            1\n",
       "Nokia Lumia 920 (white)                                                                                                                                               1\n",
       "Name: product, Length: 45928, dtype: int64"
      ]
     },
     "execution_count": 21,
     "metadata": {},
     "output_type": "execute_result"
    }
   ],
   "source": [
    "# A. Identify the most rated products. [3 Marks]\n",
    "df['product'].value_counts()"
   ]
  },
  {
   "cell_type": "code",
   "execution_count": 22,
   "id": "c7e93071",
   "metadata": {},
   "outputs": [
    {
     "data": {
      "text/plain": [
       "10.0    508815\n",
       "8.0     218970\n",
       "2.0      99487\n",
       "6.0      82252\n",
       "4.0      51648\n",
       "9.0      28864\n",
       "7.0       5297\n",
       "5.0       2181\n",
       "1.0       1317\n",
       "3.0       1153\n",
       "0.0         16\n",
       "Name: score, dtype: int64"
      ]
     },
     "execution_count": 22,
     "metadata": {},
     "output_type": "execute_result"
    }
   ],
   "source": [
    "df['score'].value_counts()"
   ]
  },
  {
   "cell_type": "markdown",
   "id": "310b02f2",
   "metadata": {},
   "source": [
    "##### Lenovo Vibe K4 Note (White,16GB) is the most rated product. It has been rated 4596 times."
   ]
  },
  {
   "cell_type": "code",
   "execution_count": 23,
   "id": "605b0aa6",
   "metadata": {},
   "outputs": [
    {
     "data": {
      "text/plain": [
       "Amazon Customer      66868\n",
       "Cliente Amazon       16898\n",
       "e-bit                 7389\n",
       "Client d'Amazon       6766\n",
       "Amazon Kunde          4060\n",
       "                     ...  \n",
       "mihaglazkov              1\n",
       "nripen baskey            1\n",
       "Электрический пес        1\n",
       "Elisa Romano             1\n",
       "Brittanix                1\n",
       "Name: author, Length: 608588, dtype: int64"
      ]
     },
     "execution_count": 23,
     "metadata": {},
     "output_type": "execute_result"
    }
   ],
   "source": [
    "# B. Identify the users with most number of reviews. [3 Marks]\n",
    "df['author'].value_counts()"
   ]
  },
  {
   "cell_type": "markdown",
   "id": "9873d2f1",
   "metadata": {},
   "source": [
    "Amazon customers gave  the most reviews. "
   ]
  },
  {
   "cell_type": "code",
   "execution_count": 24,
   "id": "05e4f8d5",
   "metadata": {},
   "outputs": [
    {
     "name": "stdout",
     "output_type": "stream",
     "text": [
      "Users who have given more than 50 ratings: (666,)\n",
      "Products that have more than 50 reviews (4678,)\n",
      "The shape of the final dataset is: (129810, 3)\n"
     ]
    }
   ],
   "source": [
    "# C. Select the data with products having more than 50 ratings and users who have given more than 50 ratings. Report the shape of the finaldataset. [4 Marks]\n",
    "x = df['author'].value_counts() > 50\n",
    "z = df['product'].value_counts() > 50\n",
    "y = x[x].index\n",
    "w = z[z].index\n",
    "print(\"Users who have given more than 50 ratings:\",y.shape)\n",
    "print(\"Products that have more than 50 reviews\",w.shape)\n",
    "new_df= df[df['author'].isin(y) & df['product'].isin(w)]\n",
    "print(\"The shape of the final dataset is:\", new_df.shape)"
   ]
  },
  {
   "cell_type": "code",
   "execution_count": 25,
   "id": "946478a0",
   "metadata": {},
   "outputs": [
    {
     "name": "stderr",
     "output_type": "stream",
     "text": [
      "C:\\Users\\priya\\AppData\\Local\\Temp/ipykernel_4764/3651634786.py:1: SettingWithCopyWarning: \n",
      "A value is trying to be set on a copy of a slice from a DataFrame.\n",
      "Try using .loc[row_indexer,col_indexer] = value instead\n",
      "\n",
      "See the caveats in the documentation: https://pandas.pydata.org/pandas-docs/stable/user_guide/indexing.html#returning-a-view-versus-a-copy\n",
      "  new_df['product'] = new_df['product'].apply(str.lower)\n"
     ]
    }
   ],
   "source": [
    "new_df['product'] = new_df['product'].apply(str.lower)"
   ]
  },
  {
   "cell_type": "code",
   "execution_count": 26,
   "id": "edc4e09c",
   "metadata": {},
   "outputs": [
    {
     "data": {
      "image/png": "[encoded data removed]",
      "text/plain": [
       "<Figure size 432x288 with 1 Axes>"
      ]
     },
     "metadata": {
      "needs_background": "light"
     },
     "output_type": "display_data"
    }
   ],
   "source": [
    "sns.countplot(data=new_df , x='score')\n",
    "plt.show()"
   ]
  },
  {
   "cell_type": "code",
   "execution_count": 27,
   "id": "b5ea15fb",
   "metadata": {},
   "outputs": [
    {
     "data": {
      "text/plain": [
       "score      23\n",
       "author     23\n",
       "product    23\n",
       "dtype: int64"
      ]
     },
     "execution_count": 27,
     "metadata": {},
     "output_type": "execute_result"
    }
   ],
   "source": [
    "new_df[new_df['product']=='blackberry dtek50 unlocked smartphone, black'].count()"
   ]
  },
  {
   "cell_type": "markdown",
   "id": "02e6644a",
   "metadata": {},
   "source": [
    "#### 3. Build a popularity based model and recommend top 5 mobile phones. [5 Marks]"
   ]
  },
  {
   "cell_type": "code",
   "execution_count": 28,
   "id": "71464814",
   "metadata": {},
   "outputs": [
    {
     "data": {
      "text/plain": [
       "product\n",
       "lenovo vibe k4 note (white,16gb)       2752\n",
       "lenovo vibe k4 note (black, 16gb)      2285\n",
       "oneplus 3 (graphite, 64 gb)            1675\n",
       "oneplus 3 (soft gold, 64 gb)           1578\n",
       "lenovo vibe k5 (gold, volte update)    1421\n",
       "Name: score, dtype: int64"
      ]
     },
     "execution_count": 28,
     "metadata": {},
     "output_type": "execute_result"
    }
   ],
   "source": [
    "new_df.groupby('product')['score'].count().sort_values(ascending=False).head(5) "
   ]
  },
  {
   "cell_type": "code",
   "execution_count": 29,
   "id": "98f42e58",
   "metadata": {},
   "outputs": [
    {
     "data": {
      "text/plain": [
       "product\n",
       "טלפון סלולרי xiaomi redmi note 4 64gb    10.0\n",
       "samsung galaxy s ii gt-i9100             10.0\n",
       "sony ericsson c903                       10.0\n",
       "motorola moto x                          10.0\n",
       "motorola moto z force droid              10.0\n",
       "Name: score, dtype: float64"
      ]
     },
     "execution_count": 29,
     "metadata": {},
     "output_type": "execute_result"
    }
   ],
   "source": [
    "new_df.groupby('product')['score'].mean().sort_values(ascending=False).head(5)  "
   ]
  },
  {
   "cell_type": "code",
   "execution_count": 30,
   "id": "99b141ad",
   "metadata": {},
   "outputs": [],
   "source": [
    "ratings_mean_count = pd.DataFrame(new_df.groupby('product')['score'].mean().sort_values(ascending=False)) "
   ]
  },
  {
   "cell_type": "code",
   "execution_count": 31,
   "id": "d31bfddf",
   "metadata": {},
   "outputs": [],
   "source": [
    "ratings_mean_count['rating_counts'] = pd.DataFrame(new_df.groupby('product')['score'].count())"
   ]
  },
  {
   "cell_type": "code",
   "execution_count": 32,
   "id": "7d5b58ea",
   "metadata": {},
   "outputs": [
    {
     "data": {
      "text/html": [
       "<div>\n",
       "<style scoped>\n",
       "    .dataframe tbody tr th:only-of-type {\n",
       "        vertical-align: middle;\n",
       "    }\n",
       "\n",
       "    .dataframe tbody tr th {\n",
       "        vertical-align: top;\n",
       "    }\n",
       "\n",
       "    .dataframe thead th {\n",
       "        text-align: right;\n",
       "    }\n",
       "</style>\n",
       "<table border=\"1\" class=\"dataframe\">\n",
       "  <thead>\n",
       "    <tr style=\"text-align: right;\">\n",
       "      <th></th>\n",
       "      <th>score</th>\n",
       "      <th>rating_counts</th>\n",
       "    </tr>\n",
       "    <tr>\n",
       "      <th>product</th>\n",
       "      <th></th>\n",
       "      <th></th>\n",
       "    </tr>\n",
       "  </thead>\n",
       "  <tbody>\n",
       "    <tr>\n",
       "      <th>טלפון סלולרי xiaomi redmi note 4 64gb</th>\n",
       "      <td>10.0</td>\n",
       "      <td>2</td>\n",
       "    </tr>\n",
       "    <tr>\n",
       "      <th>samsung galaxy s ii gt-i9100</th>\n",
       "      <td>10.0</td>\n",
       "      <td>2</td>\n",
       "    </tr>\n",
       "    <tr>\n",
       "      <th>sony ericsson c903</th>\n",
       "      <td>10.0</td>\n",
       "      <td>1</td>\n",
       "    </tr>\n",
       "    <tr>\n",
       "      <th>motorola moto x</th>\n",
       "      <td>10.0</td>\n",
       "      <td>3</td>\n",
       "    </tr>\n",
       "    <tr>\n",
       "      <th>motorola moto z force droid</th>\n",
       "      <td>10.0</td>\n",
       "      <td>1</td>\n",
       "    </tr>\n",
       "  </tbody>\n",
       "</table>\n",
       "</div>"
      ],
      "text/plain": [
       "                                       score  rating_counts\n",
       "product                                                    \n",
       "טלפון סלולרי xiaomi redmi note 4 64gb   10.0              2\n",
       "samsung galaxy s ii gt-i9100            10.0              2\n",
       "sony ericsson c903                      10.0              1\n",
       "motorola moto x                         10.0              3\n",
       "motorola moto z force droid             10.0              1"
      ]
     },
     "execution_count": 32,
     "metadata": {},
     "output_type": "execute_result"
    }
   ],
   "source": [
    "ratings_mean_count.head()  "
   ]
  },
  {
   "cell_type": "code",
   "execution_count": 33,
   "id": "cd4f2e39",
   "metadata": {},
   "outputs": [
    {
     "name": "stderr",
     "output_type": "stream",
     "text": [
      "C:\\Users\\priya\\AppData\\Local\\Temp/ipykernel_4764/945526029.py:1: SettingWithCopyWarning: \n",
      "A value is trying to be set on a copy of a slice from a DataFrame.\n",
      "Try using .loc[row_indexer,col_indexer] = value instead\n",
      "\n",
      "See the caveats in the documentation: https://pandas.pydata.org/pandas-docs/stable/user_guide/indexing.html#returning-a-view-versus-a-copy\n",
      "  new_df['score'] = new_df['score'].astype(int)\n"
     ]
    }
   ],
   "source": [
    "new_df['score'] = new_df['score'].astype(int)"
   ]
  },
  {
   "cell_type": "code",
   "execution_count": 34,
   "id": "d54516c3",
   "metadata": {},
   "outputs": [
    {
     "name": "stdout",
     "output_type": "stream",
     "text": [
      "<class 'pandas.core.frame.DataFrame'>\n",
      "Int64Index: 129810 entries, 93259 to 39452\n",
      "Data columns (total 3 columns):\n",
      " #   Column   Non-Null Count   Dtype \n",
      "---  ------   --------------   ----- \n",
      " 0   score    129810 non-null  int32 \n",
      " 1   author   129810 non-null  object\n",
      " 2   product  129810 non-null  object\n",
      "dtypes: int32(1), object(2)\n",
      "memory usage: 7.5+ MB\n"
     ]
    }
   ],
   "source": [
    "new_df.info()"
   ]
  },
  {
   "cell_type": "code",
   "execution_count": 35,
   "id": "440dbd0a",
   "metadata": {},
   "outputs": [
    {
     "data": {
      "text/plain": [
       "array([10,  6,  2,  8,  4,  9,  7,  3,  5,  1])"
      ]
     },
     "execution_count": 35,
     "metadata": {},
     "output_type": "execute_result"
    }
   ],
   "source": [
    "new_df['score'].unique()"
   ]
  },
  {
   "cell_type": "markdown",
   "id": "69e64f5b",
   "metadata": {},
   "source": [
    "#### 4. Build a collaborative filtering model using SVD. You can use SVD from surprise or build it from scratch(Note: Incase you’re building it from scratch you can limit your data points to 5000 samples if you face memory issues). Build a collaborative filtering model using kNNWithMeans from surprise. You can try both user-based and item-based model. [10 Marks]"
   ]
  },
  {
   "cell_type": "code",
   "execution_count": 36,
   "id": "8bc1bcbc",
   "metadata": {},
   "outputs": [],
   "source": [
    "from surprise import Dataset,Reader\n",
    "from surprise.model_selection import train_test_split\n",
    "\n",
    "from surprise import KNNWithMeans\n",
    "from surprise import accuracy\n",
    "\n",
    "from surprise import SVD\n",
    "from surprise import accuracy"
   ]
  },
  {
   "cell_type": "code",
   "execution_count": 37,
   "id": "782ccb14",
   "metadata": {},
   "outputs": [
    {
     "data": {
      "text/html": [
       "<div>\n",
       "<style scoped>\n",
       "    .dataframe tbody tr th:only-of-type {\n",
       "        vertical-align: middle;\n",
       "    }\n",
       "\n",
       "    .dataframe tbody tr th {\n",
       "        vertical-align: top;\n",
       "    }\n",
       "\n",
       "    .dataframe thead th {\n",
       "        text-align: right;\n",
       "    }\n",
       "</style>\n",
       "<table border=\"1\" class=\"dataframe\">\n",
       "  <thead>\n",
       "    <tr style=\"text-align: right;\">\n",
       "      <th></th>\n",
       "      <th>author</th>\n",
       "      <th>product</th>\n",
       "      <th>score</th>\n",
       "    </tr>\n",
       "  </thead>\n",
       "  <tbody>\n",
       "    <tr>\n",
       "      <th>93259</th>\n",
       "      <td>Amazon Customer</td>\n",
       "      <td>motorola nexus 6 unlocked smartphone, 32 gb, u...</td>\n",
       "      <td>10</td>\n",
       "    </tr>\n",
       "    <tr>\n",
       "      <th>21362</th>\n",
       "      <td>Amazon Customer</td>\n",
       "      <td>lenovo vibe k5 (grey, volte update)</td>\n",
       "      <td>6</td>\n",
       "    </tr>\n",
       "    <tr>\n",
       "      <th>53900</th>\n",
       "      <td>Amazon Customer</td>\n",
       "      <td>lenovo vibe k4 note (white,16gb)</td>\n",
       "      <td>2</td>\n",
       "    </tr>\n",
       "    <tr>\n",
       "      <th>11426</th>\n",
       "      <td>Amazon Customer</td>\n",
       "      <td>samsung galaxy s7 edge g935fd dual sim interna...</td>\n",
       "      <td>10</td>\n",
       "    </tr>\n",
       "    <tr>\n",
       "      <th>54259</th>\n",
       "      <td>Amazon Customer</td>\n",
       "      <td>lenovo vibe k4 note (black, 16gb)</td>\n",
       "      <td>8</td>\n",
       "    </tr>\n",
       "  </tbody>\n",
       "</table>\n",
       "</div>"
      ],
      "text/plain": [
       "                author                                            product  \\\n",
       "93259  Amazon Customer  motorola nexus 6 unlocked smartphone, 32 gb, u...   \n",
       "21362  Amazon Customer                lenovo vibe k5 (grey, volte update)   \n",
       "53900  Amazon Customer                   lenovo vibe k4 note (white,16gb)   \n",
       "11426  Amazon Customer  samsung galaxy s7 edge g935fd dual sim interna...   \n",
       "54259  Amazon Customer                  lenovo vibe k4 note (black, 16gb)   \n",
       "\n",
       "       score  \n",
       "93259     10  \n",
       "21362      6  \n",
       "53900      2  \n",
       "11426     10  \n",
       "54259      8  "
      ]
     },
     "execution_count": 37,
     "metadata": {},
     "output_type": "execute_result"
    }
   ],
   "source": [
    "reader = Reader(rating_scale=(1,10))\n",
    "\n",
    "surp_data=Dataset.load_from_df(new_df[['author','product','score']],reader)\n",
    "surp_data.df.head()"
   ]
  },
  {
   "cell_type": "code",
   "execution_count": 38,
   "id": "40c4156d",
   "metadata": {},
   "outputs": [],
   "source": [
    "trainset,testset =train_test_split(surp_data, test_size=0.3,random_state=23)"
   ]
  },
  {
   "cell_type": "code",
   "execution_count": 39,
   "id": "ca733149",
   "metadata": {},
   "outputs": [
    {
     "data": {
      "text/plain": [
       "collections.defaultdict"
      ]
     },
     "execution_count": 39,
     "metadata": {},
     "output_type": "execute_result"
    }
   ],
   "source": [
    "user_ratings=trainset.ur\n",
    "type(user_ratings)"
   ]
  },
  {
   "cell_type": "code",
   "execution_count": 40,
   "id": "7e54fc3f",
   "metadata": {},
   "outputs": [
    {
     "data": {
      "text/plain": [
       "<surprise.prediction_algorithms.matrix_factorization.SVD at 0x22faea6eca0>"
      ]
     },
     "execution_count": 40,
     "metadata": {},
     "output_type": "execute_result"
    }
   ],
   "source": [
    "model_svd = SVD()\n",
    "model_svd.fit(trainset)"
   ]
  },
  {
   "cell_type": "code",
   "execution_count": 41,
   "id": "210acbd7",
   "metadata": {},
   "outputs": [],
   "source": [
    "test_pred= model_svd.test(testset)"
   ]
  },
  {
   "cell_type": "code",
   "execution_count": 42,
   "id": "82ef3e87",
   "metadata": {},
   "outputs": [
    {
     "data": {
      "text/plain": [
       "Prediction(uid='Amazon Customer', iid='samsung galaxy s4, black mist 16gb (verizon wireless)', r_ui=10.0, est=4.353595590730874, details={'was_impossible': False})"
      ]
     },
     "execution_count": 42,
     "metadata": {},
     "output_type": "execute_result"
    }
   ],
   "source": [
    "test_pred[0]"
   ]
  },
  {
   "cell_type": "code",
   "execution_count": 43,
   "id": "acc0cc3d",
   "metadata": {},
   "outputs": [
    {
     "name": "stdout",
     "output_type": "stream",
     "text": [
      "RMSE: 2.7438\n"
     ]
    },
    {
     "data": {
      "text/plain": [
       "2.7438487452207125"
      ]
     },
     "execution_count": 43,
     "metadata": {},
     "output_type": "execute_result"
    }
   ],
   "source": [
    "# 5. Evaluate the collaborative model. Print RMSE value. [2 Marks]\n",
    "accuracy.rmse(test_pred, verbose=True)"
   ]
  },
  {
   "cell_type": "code",
   "execution_count": 44,
   "id": "92c2ccc6",
   "metadata": {},
   "outputs": [
    {
     "data": {
      "text/plain": [
       "('Amazon Customer',\n",
       " 'samsung galaxy s4, black mist 16gb (verizon wireless)',\n",
       " 10.0)"
      ]
     },
     "execution_count": 44,
     "metadata": {},
     "output_type": "execute_result"
    }
   ],
   "source": [
    "testset[0]"
   ]
  },
  {
   "cell_type": "code",
   "execution_count": 45,
   "id": "b2f2a0f2",
   "metadata": {},
   "outputs": [
    {
     "name": "stdout",
     "output_type": "stream",
     "text": [
      "Computing the cosine similarity matrix...\n",
      "Done computing similarity matrix.\n"
     ]
    },
    {
     "data": {
      "text/plain": [
       "Prediction(uid='Amazon Customer', iid='samsung galaxy s4, black mist 16gb (verizon wireless)', r_ui=10.0, est=7.2, details={'actual_k': 20, 'was_impossible': False})"
      ]
     },
     "execution_count": 45,
     "metadata": {},
     "output_type": "execute_result"
    }
   ],
   "source": [
    "# KNNWithMeans Item-Item collaborative filtering\n",
    "model_item = KNNWithMeans(k=20, sim_options={'name': 'cosine', 'user_based': False})\n",
    "model_item.fit(trainset)\n",
    "\n",
    "item_pred=model_item.test(testset)\n",
    "\n",
    "item_pred[0]"
   ]
  },
  {
   "cell_type": "code",
   "execution_count": 46,
   "id": "d8b2fe11",
   "metadata": {},
   "outputs": [
    {
     "name": "stdout",
     "output_type": "stream",
     "text": [
      "RMSE: 2.7560\n"
     ]
    },
    {
     "data": {
      "text/plain": [
       "2.7560096486202705"
      ]
     },
     "execution_count": 46,
     "metadata": {},
     "output_type": "execute_result"
    }
   ],
   "source": [
    "accuracy.rmse(item_pred, verbose=True)"
   ]
  },
  {
   "cell_type": "code",
   "execution_count": 47,
   "id": "ba63bb40",
   "metadata": {},
   "outputs": [
    {
     "name": "stdout",
     "output_type": "stream",
     "text": [
      "Computing the cosine similarity matrix...\n",
      "Done computing similarity matrix.\n"
     ]
    },
    {
     "data": {
      "text/plain": [
       "Prediction(uid='Amazon Customer', iid='samsung galaxy s4, black mist 16gb (verizon wireless)', r_ui=10.0, est=7.2, details={'actual_k': 20, 'was_impossible': False})"
      ]
     },
     "execution_count": 47,
     "metadata": {},
     "output_type": "execute_result"
    }
   ],
   "source": [
    "# KNNWithMeans User-user collaborative filtering\n",
    "model_user = KNNWithMeans(k=20, sim_options={'name': 'cosine', 'user_based': True})\n",
    "model_user.fit(trainset)\n",
    "\n",
    "user_pred=model_user.test(testset)\n",
    "\n",
    "user_pred[0]"
   ]
  },
  {
   "cell_type": "code",
   "execution_count": 48,
   "id": "190c9016",
   "metadata": {},
   "outputs": [
    {
     "name": "stdout",
     "output_type": "stream",
     "text": [
      "RMSE: 2.7440\n"
     ]
    },
    {
     "data": {
      "text/plain": [
       "2.7439753030713407"
      ]
     },
     "execution_count": 48,
     "metadata": {},
     "output_type": "execute_result"
    }
   ],
   "source": [
    "accuracy.rmse(user_pred, verbose=True)"
   ]
  },
  {
   "cell_type": "code",
   "execution_count": 49,
   "id": "3594fc29",
   "metadata": {},
   "outputs": [
    {
     "name": "stdout",
     "output_type": "stream",
     "text": [
      "user: Amazon Customer item: huawei p8 lite wit / 16 gb r_ui = None   est = 7.44   {'was_impossible': False}\n"
     ]
    }
   ],
   "source": [
    "#6. Predict score (average rating) for test users. [2 Marks]\n",
    "uid = 'Amazon Customer'\n",
    "iid = 'huawei p8 lite wit / 16 gb'\n",
    "pred = model_svd.predict(uid, iid, verbose=True)"
   ]
  },
  {
   "cell_type": "markdown",
   "id": "27ba1806",
   "metadata": {},
   "source": [
    "##### 7. Report your findings and inferences. [2 Marks]\n",
    "The performance all all three models is very similar. All give an RMSE value of around 2.7. "
   ]
  },
  {
   "cell_type": "code",
   "execution_count": 50,
   "id": "2a22ad14",
   "metadata": {},
   "outputs": [],
   "source": [
    "# 8. Try and recommend top 5 products for test users. [5 Marks]\n",
    "from collections import defaultdict\n",
    "def get_top_n(predictions, n=5):\n",
    "    # First map the predictions to each user.\n",
    "    top_n = defaultdict(list)\n",
    "    for uid, iid, r_ui, est, _ in predictions:\n",
    "        top_n[uid].append((iid, est))\n",
    "\n",
    "    # Then sort the predictions for each user and retrieve the k highest ones.\n",
    "    for uid, user_ratings in top_n.items():\n",
    "        user_ratings.sort(key=lambda x: x[1], reverse=True)\n",
    "        top_n[uid] = user_ratings[:n]\n",
    "\n",
    "    return top_n"
   ]
  },
  {
   "cell_type": "code",
   "execution_count": 51,
   "id": "373dfaa5",
   "metadata": {},
   "outputs": [],
   "source": [
    "top_n = get_top_n(user_pred, n=5)"
   ]
  },
  {
   "cell_type": "code",
   "execution_count": 52,
   "id": "cf46b093",
   "metadata": {},
   "outputs": [
    {
     "data": {
      "text/plain": [
       "[('samsung e1270 uk sim free mobile phone - white', 9.710932715373122),\n",
       " ('tracfone lg tracfone 306g no contract, 2.0 megapixel camera, 3.2-inch screen, black, retail packaging',\n",
       "  9.176120748175357),\n",
       " ('lenovo motorola moto g smartphone, display hd 4,5\", processore qualcomm, memoria 8 gb, microsim, android 4.4 os, fotocamera da 5 mp, nero [germania]',\n",
       "  9.161261435720526),\n",
       " ('tech armor samsung galaxy s3 s iii premium anti-glare & anti-fingerprint (matte) screen protectors with lifetime replacement warranty [3-pack] - retail packaging',\n",
       "  9.144552162534874),\n",
       " ('huawei p8 lite wit / 16 gb', 9.065325033793696)]"
      ]
     },
     "execution_count": 52,
     "metadata": {},
     "output_type": "execute_result"
    }
   ],
   "source": [
    "top_n['Samantha']"
   ]
  },
  {
   "cell_type": "code",
   "execution_count": 53,
   "id": "9363d358",
   "metadata": {},
   "outputs": [
    {
     "name": "stdout",
     "output_type": "stream",
     "text": [
      "BEST RMSE: \t 2.6629320933669125\n",
      "BEST MAE: \t 2.126111740050985\n",
      "BEST params: \t {'n_epochs': 10, 'lr_all': 0.002, 'reg_all': 0.02}\n"
     ]
    }
   ],
   "source": [
    "# 9. Try other techniques (Example: cross validation) to get better results. [3 Marks]\n",
    "\n",
    "from surprise.model_selection import GridSearchCV\n",
    "\n",
    "param_grid = {\n",
    "    \"n_epochs\": [10, 20],\n",
    "    \"lr_all\": [0.002, 0.005],\n",
    "    \"reg_all\": [0.02]\n",
    "}\n",
    "gs = GridSearchCV(SVD, param_grid, measures=[\"rmse\", \"mae\"], refit=True, cv=5)\n",
    "\n",
    "gs.fit(surp_data)\n",
    "\n",
    "training_parameters = gs.best_params[\"rmse\"]\n",
    "\n",
    "print(\"BEST RMSE: \\t\", gs.best_score[\"rmse\"])\n",
    "print(\"BEST MAE: \\t\", gs.best_score[\"mae\"])\n",
    "print(\"BEST params: \\t\", gs.best_params[\"rmse\"])"
   ]
  },
  {
   "cell_type": "markdown",
   "id": "8439d78e",
   "metadata": {},
   "source": [
    "##### 10. In what business scenario you should use popularity based Recommendation Systems ? [2 Marks]\n",
    "\n",
    "Popularity based recommendation systems are the most primitive type of recommendation systems. It is used to recommend products or services to new customers. A first time customer has no history with the system hence the system has no data about him/her. In such a scenario, it is better to recommend products which are popular among existing customers rather than giving no recommendation. \n",
    "\n",
    "For example, a new customer has logged on to Netflix. Since Netflix knows nothing about the customers preferences yet, it will show movies or TV shows which are 'trending' instead of showing a blank screen."
   ]
  },
  {
   "cell_type": "markdown",
   "id": "d39339e7",
   "metadata": {},
   "source": [
    "##### 11. In what business scenario you should use CF based Recommendation Systems ? [2 Marks]\n",
    "\n",
    "Collaborative filtering should be used to get recommendations when we already have some data about the preferences of the customer and the nature of the products. Then we can find out if a user will like another product even if they have not rated it.\n",
    "\n",
    "For example, an existing customer on Netflix likes many rom-com movies. It would be good to recommend similar rom-com movies to than user."
   ]
  },
  {
   "cell_type": "markdown",
   "id": "ff68a617",
   "metadata": {},
   "source": [
    "##### 12. What other possible methods can you think of which can further improve the recommendation for different users ? [2 Marks]\n",
    "\n",
    "Different methods of recommending products can be combined to form hybrid systems. New users can be recommended using popularity based models and once they become regular customers use collaborative filtering. \n"
   ]
  }
 ],
 "metadata": {
  "kernelspec": {
   "display_name": "Python 3",
   "language": "python",
   "name": "python3"
  },
  "language_info": {
   "codemirror_mode": {
    "name": "ipython",
    "version": 3
   },
   "file_extension": ".py",
   "mimetype": "text/x-python",
   "name": "python",
   "nbconvert_exporter": "python",
   "pygments_lexer": "ipython3",
   "version": "3.8.5"
  }
 },
 "nbformat": 4,
 "nbformat_minor": 5
}
